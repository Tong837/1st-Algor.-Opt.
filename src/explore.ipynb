{
    "cells": [
        {
            "cell_type": "markdown",
            "metadata": {},
            "source": [
                "# ANÁLISIS \"LOAN\" - Modelo de Clasificación de REGERSIÓN LOGÍSTICA "
            ]
        },
        {
            "cell_type": "markdown",
            "metadata": {},
            "source": [
                "- **DESCRIPCIÓN DE LIBRERIAS UTILIZADAS:**\n",
                "\n",
                "**VARIABLE OBJETIVO / PREDICTORA:** \n",
                "“y”, es el target que busca el banco. La variable dará información si el cliente contrata un depósito a largo plazo o no. Objetivo a predecir\n",
                "\n",
                "Tipo de variable: Categórica Binaria (Bool). Como es binaria, usamos un modelo de clasificación.\n",
                "\n",
                "**VARIABLES INDEPENDIENTES:**\n",
                "\n",
                "**VARIABLES CATEGÓRICAS**\n",
                " \"job\", \"marital\", \"education\", \"default\", \"housing\", \"loan\", \"contact\", \"month\", \"day_of_week\", \"poutcome\"\n",
                "\n",
                "Categórica Binaria: \"default\", \"housing\",\"loan\"\n",
                "\n",
                "Categórica Nominal: \"job\", \"maritial\", \"contact\", \"month\", \"day_of_week\", \"poutcome\"\n",
                "\n",
                "Categórica Ordinal: \"educataion\"\n",
                "\n",
                " **VARIABLES NUMÉRICAS**\n",
                "\"age\", \"duration\", \"campaign\", \"pdays\", \"previous\", \"emp.var.rate\", \"cons.price.indx\", \"\"cons.conf.indx\", \"euribor3m\", \"nr.employed\"\n",
                "\n",
                "De las cuales Continuas:Pueden tomar cualquier valor en un rango ----- USAR MIN-MAX SCALING O Z-COSE SCALING\n",
                "\n",
                "\"age\", \"duration\", \"emp.var.rate\",\"cons.price.indx\", cons.conf.indx\", \"euribor3m\", \"nr.employed\"\n",
                "\n",
                "De las cuales Discretas:Toman valores específicos y contable ----- ANALIZADAS PARA IDENTIFICAR OUTLIERS Y SESGO EN LA DISTRIBUCION\n",
                "\n",
                "\"campaign\",  \"pdays\", \"precious\"\n",
                "\n",
                "- **VARIABLES NUMÉRICAS ECONÓMICAS:** Encontramos varias variables que indican datos económicos (\"emp.var.rate\",\"cons.price.indx\", cons.conf.indx\", \"euribor3m\", \"nr.employed\") que pueden afectar a la toma de decisoines de los clientes a la hora de querer adquirir un depósito a largo plazo o no. Podríamos categorizarlas como variables económicas: ---- analizar la \"multicolinealidad\" --- que eeeeeees esooo?\n"
            ]
        },
        {
            "cell_type": "markdown",
            "metadata": {},
            "source": [
                "### **PASO 0: IMPORTS**"
            ]
        },
        {
            "cell_type": "code",
            "execution_count": 131,
            "metadata": {},
            "outputs": [],
            "source": [
                "import pandas as pd\n",
                "import matplotlib.pyplot as plt \n",
                "import seaborn as sns\n",
                "from sklearn.model_selection import train_test_split\n",
                "from sklearn.preprocessing import StandardScaler\n",
                "from sklearn.preprocessing import MinMaxScaler\n",
                "from sklearn.feature_selection import f_classif, SelectKBest "
            ]
        },
        {
            "cell_type": "markdown",
            "metadata": {},
            "source": [
                "- **DESCRIPCIÓN DEL PROBLEMA**  \n",
                "    DISMINUCIÓN DE INGRESOS DEL BANCO. ESTE QUIERE OFRECER DEPÓSITOS A LARGO PLAZO PARA RECUPERAR DINERO.\n",
                "    \n",
                "    OBJETIVO: Identificar a los clientes existentes que tienen una mayor probabilidad de contratar un depósito a largo \n",
                "\n",
                "\n",
                "\n",
                "- **PROCEDIMIENTOS A SEGUIR:**\n",
                "\n",
                "- Crear algoritmo de clasificación ?¿?¿?¿?¿ A QUE SE REFIERE ?¿?¿?¿ A un código escrito que se dedica a clasificar datos?¿?¿?¿?\n",
                "\n",
                "- Si un usuario no se encuentra disponible en un momento dado, entonces se le volverá a llamar de nuevo en otro momento.\n",
                "\n",
                "- EDA\n",
                "\n",
                "- CONSTRUIR MODELO DE REGRESIÓN LOGÍSTICA\n",
                "\n",
                "- OPTIMIZAR EL MODELO"
            ]
        },
        {
            "cell_type": "markdown",
            "metadata": {},
            "source": [
                "### **PASO 1: LECTURA DE CSV**"
            ]
        },
        {
            "cell_type": "code",
            "execution_count": 132,
            "metadata": {},
            "outputs": [
                {
                    "data": {
                        "text/html": [
                            "<div>\n",
                            "<style scoped>\n",
                            "    .dataframe tbody tr th:only-of-type {\n",
                            "        vertical-align: middle;\n",
                            "    }\n",
                            "\n",
                            "    .dataframe tbody tr th {\n",
                            "        vertical-align: top;\n",
                            "    }\n",
                            "\n",
                            "    .dataframe thead th {\n",
                            "        text-align: right;\n",
                            "    }\n",
                            "</style>\n",
                            "<table border=\"1\" class=\"dataframe\">\n",
                            "  <thead>\n",
                            "    <tr style=\"text-align: right;\">\n",
                            "      <th></th>\n",
                            "      <th>age</th>\n",
                            "      <th>job</th>\n",
                            "      <th>marital</th>\n",
                            "      <th>education</th>\n",
                            "      <th>default</th>\n",
                            "      <th>housing</th>\n",
                            "      <th>loan</th>\n",
                            "      <th>contact</th>\n",
                            "      <th>month</th>\n",
                            "      <th>day_of_week</th>\n",
                            "      <th>...</th>\n",
                            "      <th>campaign</th>\n",
                            "      <th>pdays</th>\n",
                            "      <th>previous</th>\n",
                            "      <th>poutcome</th>\n",
                            "      <th>emp.var.rate</th>\n",
                            "      <th>cons.price.idx</th>\n",
                            "      <th>cons.conf.idx</th>\n",
                            "      <th>euribor3m</th>\n",
                            "      <th>nr.employed</th>\n",
                            "      <th>y</th>\n",
                            "    </tr>\n",
                            "  </thead>\n",
                            "  <tbody>\n",
                            "    <tr>\n",
                            "      <th>0</th>\n",
                            "      <td>56</td>\n",
                            "      <td>housemaid</td>\n",
                            "      <td>married</td>\n",
                            "      <td>basic.4y</td>\n",
                            "      <td>no</td>\n",
                            "      <td>no</td>\n",
                            "      <td>no</td>\n",
                            "      <td>telephone</td>\n",
                            "      <td>may</td>\n",
                            "      <td>mon</td>\n",
                            "      <td>...</td>\n",
                            "      <td>1</td>\n",
                            "      <td>999</td>\n",
                            "      <td>0</td>\n",
                            "      <td>nonexistent</td>\n",
                            "      <td>1.1</td>\n",
                            "      <td>93.994</td>\n",
                            "      <td>-36.4</td>\n",
                            "      <td>4.857</td>\n",
                            "      <td>5191.0</td>\n",
                            "      <td>no</td>\n",
                            "    </tr>\n",
                            "    <tr>\n",
                            "      <th>1</th>\n",
                            "      <td>57</td>\n",
                            "      <td>services</td>\n",
                            "      <td>married</td>\n",
                            "      <td>high.school</td>\n",
                            "      <td>unknown</td>\n",
                            "      <td>no</td>\n",
                            "      <td>no</td>\n",
                            "      <td>telephone</td>\n",
                            "      <td>may</td>\n",
                            "      <td>mon</td>\n",
                            "      <td>...</td>\n",
                            "      <td>1</td>\n",
                            "      <td>999</td>\n",
                            "      <td>0</td>\n",
                            "      <td>nonexistent</td>\n",
                            "      <td>1.1</td>\n",
                            "      <td>93.994</td>\n",
                            "      <td>-36.4</td>\n",
                            "      <td>4.857</td>\n",
                            "      <td>5191.0</td>\n",
                            "      <td>no</td>\n",
                            "    </tr>\n",
                            "    <tr>\n",
                            "      <th>2</th>\n",
                            "      <td>37</td>\n",
                            "      <td>services</td>\n",
                            "      <td>married</td>\n",
                            "      <td>high.school</td>\n",
                            "      <td>no</td>\n",
                            "      <td>yes</td>\n",
                            "      <td>no</td>\n",
                            "      <td>telephone</td>\n",
                            "      <td>may</td>\n",
                            "      <td>mon</td>\n",
                            "      <td>...</td>\n",
                            "      <td>1</td>\n",
                            "      <td>999</td>\n",
                            "      <td>0</td>\n",
                            "      <td>nonexistent</td>\n",
                            "      <td>1.1</td>\n",
                            "      <td>93.994</td>\n",
                            "      <td>-36.4</td>\n",
                            "      <td>4.857</td>\n",
                            "      <td>5191.0</td>\n",
                            "      <td>no</td>\n",
                            "    </tr>\n",
                            "    <tr>\n",
                            "      <th>3</th>\n",
                            "      <td>40</td>\n",
                            "      <td>admin.</td>\n",
                            "      <td>married</td>\n",
                            "      <td>basic.6y</td>\n",
                            "      <td>no</td>\n",
                            "      <td>no</td>\n",
                            "      <td>no</td>\n",
                            "      <td>telephone</td>\n",
                            "      <td>may</td>\n",
                            "      <td>mon</td>\n",
                            "      <td>...</td>\n",
                            "      <td>1</td>\n",
                            "      <td>999</td>\n",
                            "      <td>0</td>\n",
                            "      <td>nonexistent</td>\n",
                            "      <td>1.1</td>\n",
                            "      <td>93.994</td>\n",
                            "      <td>-36.4</td>\n",
                            "      <td>4.857</td>\n",
                            "      <td>5191.0</td>\n",
                            "      <td>no</td>\n",
                            "    </tr>\n",
                            "    <tr>\n",
                            "      <th>4</th>\n",
                            "      <td>56</td>\n",
                            "      <td>services</td>\n",
                            "      <td>married</td>\n",
                            "      <td>high.school</td>\n",
                            "      <td>no</td>\n",
                            "      <td>no</td>\n",
                            "      <td>yes</td>\n",
                            "      <td>telephone</td>\n",
                            "      <td>may</td>\n",
                            "      <td>mon</td>\n",
                            "      <td>...</td>\n",
                            "      <td>1</td>\n",
                            "      <td>999</td>\n",
                            "      <td>0</td>\n",
                            "      <td>nonexistent</td>\n",
                            "      <td>1.1</td>\n",
                            "      <td>93.994</td>\n",
                            "      <td>-36.4</td>\n",
                            "      <td>4.857</td>\n",
                            "      <td>5191.0</td>\n",
                            "      <td>no</td>\n",
                            "    </tr>\n",
                            "  </tbody>\n",
                            "</table>\n",
                            "<p>5 rows × 21 columns</p>\n",
                            "</div>"
                        ],
                        "text/plain": [
                            "   age        job  marital    education  default housing loan    contact  \\\n",
                            "0   56  housemaid  married     basic.4y       no      no   no  telephone   \n",
                            "1   57   services  married  high.school  unknown      no   no  telephone   \n",
                            "2   37   services  married  high.school       no     yes   no  telephone   \n",
                            "3   40     admin.  married     basic.6y       no      no   no  telephone   \n",
                            "4   56   services  married  high.school       no      no  yes  telephone   \n",
                            "\n",
                            "  month day_of_week  ...  campaign  pdays  previous     poutcome emp.var.rate  \\\n",
                            "0   may         mon  ...         1    999         0  nonexistent          1.1   \n",
                            "1   may         mon  ...         1    999         0  nonexistent          1.1   \n",
                            "2   may         mon  ...         1    999         0  nonexistent          1.1   \n",
                            "3   may         mon  ...         1    999         0  nonexistent          1.1   \n",
                            "4   may         mon  ...         1    999         0  nonexistent          1.1   \n",
                            "\n",
                            "   cons.price.idx  cons.conf.idx  euribor3m  nr.employed   y  \n",
                            "0          93.994          -36.4      4.857       5191.0  no  \n",
                            "1          93.994          -36.4      4.857       5191.0  no  \n",
                            "2          93.994          -36.4      4.857       5191.0  no  \n",
                            "3          93.994          -36.4      4.857       5191.0  no  \n",
                            "4          93.994          -36.4      4.857       5191.0  no  \n",
                            "\n",
                            "[5 rows x 21 columns]"
                        ]
                    },
                    "execution_count": 132,
                    "metadata": {},
                    "output_type": "execute_result"
                }
            ],
            "source": [
                "ds= pd.read_csv(\"https://raw.githubusercontent.com/4GeeksAcademy/logistic-regression-project-tutorial/main/bank-marketing-campaign-data.csv\", sep=\";\")\n",
                "ds.head()"
            ]
        },
        {
            "cell_type": "markdown",
            "metadata": {},
            "source": [
                "### **PASO 2: EXPLORACIÓN Y LIMPIEZA DE DATOS**"
            ]
        },
        {
            "cell_type": "markdown",
            "metadata": {},
            "source": [
                "* Conteo de filas y columnas:"
            ]
        },
        {
            "cell_type": "code",
            "execution_count": 133,
            "metadata": {},
            "outputs": [
                {
                    "data": {
                        "text/plain": [
                            "(41188, 21)"
                        ]
                    },
                    "execution_count": 133,
                    "metadata": {},
                    "output_type": "execute_result"
                }
            ],
            "source": [
                "ds.shape"
            ]
        },
        {
            "cell_type": "markdown",
            "metadata": {},
            "source": [
                "* Identificar valores nulos:"
            ]
        },
        {
            "cell_type": "code",
            "execution_count": 134,
            "metadata": {},
            "outputs": [
                {
                    "name": "stdout",
                    "output_type": "stream",
                    "text": [
                        "<class 'pandas.core.frame.DataFrame'>\n",
                        "RangeIndex: 41188 entries, 0 to 41187\n",
                        "Data columns (total 21 columns):\n",
                        " #   Column          Non-Null Count  Dtype  \n",
                        "---  ------          --------------  -----  \n",
                        " 0   age             41188 non-null  int64  \n",
                        " 1   job             41188 non-null  object \n",
                        " 2   marital         41188 non-null  object \n",
                        " 3   education       41188 non-null  object \n",
                        " 4   default         41188 non-null  object \n",
                        " 5   housing         41188 non-null  object \n",
                        " 6   loan            41188 non-null  object \n",
                        " 7   contact         41188 non-null  object \n",
                        " 8   month           41188 non-null  object \n",
                        " 9   day_of_week     41188 non-null  object \n",
                        " 10  duration        41188 non-null  int64  \n",
                        " 11  campaign        41188 non-null  int64  \n",
                        " 12  pdays           41188 non-null  int64  \n",
                        " 13  previous        41188 non-null  int64  \n",
                        " 14  poutcome        41188 non-null  object \n",
                        " 15  emp.var.rate    41188 non-null  float64\n",
                        " 16  cons.price.idx  41188 non-null  float64\n",
                        " 17  cons.conf.idx   41188 non-null  float64\n",
                        " 18  euribor3m       41188 non-null  float64\n",
                        " 19  nr.employed     41188 non-null  float64\n",
                        " 20  y               41188 non-null  object \n",
                        "dtypes: float64(5), int64(5), object(11)\n",
                        "memory usage: 6.6+ MB\n"
                    ]
                }
            ],
            "source": [
                "ds.info()"
            ]
        },
        {
            "cell_type": "markdown",
            "metadata": {},
            "source": [
                "    Conclusión: \n",
                "    · No se encuentran valores nulos.\n",
                "    · Tenemos 10 variables numéricas y 11 de tipo object-string"
            ]
        },
        {
            "cell_type": "markdown",
            "metadata": {},
            "source": [
                "**EXPLORACIÓN DE DATOS**"
            ]
        },
        {
            "cell_type": "markdown",
            "metadata": {},
            "source": [
                "* Detectar duplicados y contarlos:"
            ]
        },
        {
            "cell_type": "code",
            "execution_count": 135,
            "metadata": {},
            "outputs": [
                {
                    "data": {
                        "text/plain": [
                            "np.int64(12)"
                        ]
                    },
                    "execution_count": 135,
                    "metadata": {},
                    "output_type": "execute_result"
                }
            ],
            "source": [
                "ds.duplicated().sum()"
            ]
        },
        {
            "cell_type": "markdown",
            "metadata": {},
            "source": [
                "* Visualizacióon de duplicados:"
            ]
        },
        {
            "cell_type": "code",
            "execution_count": 136,
            "metadata": {},
            "outputs": [
                {
                    "data": {
                        "text/html": [
                            "<div>\n",
                            "<style scoped>\n",
                            "    .dataframe tbody tr th:only-of-type {\n",
                            "        vertical-align: middle;\n",
                            "    }\n",
                            "\n",
                            "    .dataframe tbody tr th {\n",
                            "        vertical-align: top;\n",
                            "    }\n",
                            "\n",
                            "    .dataframe thead th {\n",
                            "        text-align: right;\n",
                            "    }\n",
                            "</style>\n",
                            "<table border=\"1\" class=\"dataframe\">\n",
                            "  <thead>\n",
                            "    <tr style=\"text-align: right;\">\n",
                            "      <th></th>\n",
                            "      <th>age</th>\n",
                            "      <th>job</th>\n",
                            "      <th>marital</th>\n",
                            "      <th>education</th>\n",
                            "      <th>default</th>\n",
                            "      <th>housing</th>\n",
                            "      <th>loan</th>\n",
                            "      <th>contact</th>\n",
                            "      <th>month</th>\n",
                            "      <th>day_of_week</th>\n",
                            "      <th>...</th>\n",
                            "      <th>campaign</th>\n",
                            "      <th>pdays</th>\n",
                            "      <th>previous</th>\n",
                            "      <th>poutcome</th>\n",
                            "      <th>emp.var.rate</th>\n",
                            "      <th>cons.price.idx</th>\n",
                            "      <th>cons.conf.idx</th>\n",
                            "      <th>euribor3m</th>\n",
                            "      <th>nr.employed</th>\n",
                            "      <th>y</th>\n",
                            "    </tr>\n",
                            "  </thead>\n",
                            "  <tbody>\n",
                            "    <tr>\n",
                            "      <th>1266</th>\n",
                            "      <td>39</td>\n",
                            "      <td>blue-collar</td>\n",
                            "      <td>married</td>\n",
                            "      <td>basic.6y</td>\n",
                            "      <td>no</td>\n",
                            "      <td>no</td>\n",
                            "      <td>no</td>\n",
                            "      <td>telephone</td>\n",
                            "      <td>may</td>\n",
                            "      <td>thu</td>\n",
                            "      <td>...</td>\n",
                            "      <td>1</td>\n",
                            "      <td>999</td>\n",
                            "      <td>0</td>\n",
                            "      <td>nonexistent</td>\n",
                            "      <td>1.1</td>\n",
                            "      <td>93.994</td>\n",
                            "      <td>-36.4</td>\n",
                            "      <td>4.855</td>\n",
                            "      <td>5191.0</td>\n",
                            "      <td>no</td>\n",
                            "    </tr>\n",
                            "    <tr>\n",
                            "      <th>12261</th>\n",
                            "      <td>36</td>\n",
                            "      <td>retired</td>\n",
                            "      <td>married</td>\n",
                            "      <td>unknown</td>\n",
                            "      <td>no</td>\n",
                            "      <td>no</td>\n",
                            "      <td>no</td>\n",
                            "      <td>telephone</td>\n",
                            "      <td>jul</td>\n",
                            "      <td>thu</td>\n",
                            "      <td>...</td>\n",
                            "      <td>1</td>\n",
                            "      <td>999</td>\n",
                            "      <td>0</td>\n",
                            "      <td>nonexistent</td>\n",
                            "      <td>1.4</td>\n",
                            "      <td>93.918</td>\n",
                            "      <td>-42.7</td>\n",
                            "      <td>4.966</td>\n",
                            "      <td>5228.1</td>\n",
                            "      <td>no</td>\n",
                            "    </tr>\n",
                            "    <tr>\n",
                            "      <th>14234</th>\n",
                            "      <td>27</td>\n",
                            "      <td>technician</td>\n",
                            "      <td>single</td>\n",
                            "      <td>professional.course</td>\n",
                            "      <td>no</td>\n",
                            "      <td>no</td>\n",
                            "      <td>no</td>\n",
                            "      <td>cellular</td>\n",
                            "      <td>jul</td>\n",
                            "      <td>mon</td>\n",
                            "      <td>...</td>\n",
                            "      <td>2</td>\n",
                            "      <td>999</td>\n",
                            "      <td>0</td>\n",
                            "      <td>nonexistent</td>\n",
                            "      <td>1.4</td>\n",
                            "      <td>93.918</td>\n",
                            "      <td>-42.7</td>\n",
                            "      <td>4.962</td>\n",
                            "      <td>5228.1</td>\n",
                            "      <td>no</td>\n",
                            "    </tr>\n",
                            "    <tr>\n",
                            "      <th>16956</th>\n",
                            "      <td>47</td>\n",
                            "      <td>technician</td>\n",
                            "      <td>divorced</td>\n",
                            "      <td>high.school</td>\n",
                            "      <td>no</td>\n",
                            "      <td>yes</td>\n",
                            "      <td>no</td>\n",
                            "      <td>cellular</td>\n",
                            "      <td>jul</td>\n",
                            "      <td>thu</td>\n",
                            "      <td>...</td>\n",
                            "      <td>3</td>\n",
                            "      <td>999</td>\n",
                            "      <td>0</td>\n",
                            "      <td>nonexistent</td>\n",
                            "      <td>1.4</td>\n",
                            "      <td>93.918</td>\n",
                            "      <td>-42.7</td>\n",
                            "      <td>4.962</td>\n",
                            "      <td>5228.1</td>\n",
                            "      <td>no</td>\n",
                            "    </tr>\n",
                            "    <tr>\n",
                            "      <th>18465</th>\n",
                            "      <td>32</td>\n",
                            "      <td>technician</td>\n",
                            "      <td>single</td>\n",
                            "      <td>professional.course</td>\n",
                            "      <td>no</td>\n",
                            "      <td>yes</td>\n",
                            "      <td>no</td>\n",
                            "      <td>cellular</td>\n",
                            "      <td>jul</td>\n",
                            "      <td>thu</td>\n",
                            "      <td>...</td>\n",
                            "      <td>1</td>\n",
                            "      <td>999</td>\n",
                            "      <td>0</td>\n",
                            "      <td>nonexistent</td>\n",
                            "      <td>1.4</td>\n",
                            "      <td>93.918</td>\n",
                            "      <td>-42.7</td>\n",
                            "      <td>4.968</td>\n",
                            "      <td>5228.1</td>\n",
                            "      <td>no</td>\n",
                            "    </tr>\n",
                            "    <tr>\n",
                            "      <th>20216</th>\n",
                            "      <td>55</td>\n",
                            "      <td>services</td>\n",
                            "      <td>married</td>\n",
                            "      <td>high.school</td>\n",
                            "      <td>unknown</td>\n",
                            "      <td>no</td>\n",
                            "      <td>no</td>\n",
                            "      <td>cellular</td>\n",
                            "      <td>aug</td>\n",
                            "      <td>mon</td>\n",
                            "      <td>...</td>\n",
                            "      <td>1</td>\n",
                            "      <td>999</td>\n",
                            "      <td>0</td>\n",
                            "      <td>nonexistent</td>\n",
                            "      <td>1.4</td>\n",
                            "      <td>93.444</td>\n",
                            "      <td>-36.1</td>\n",
                            "      <td>4.965</td>\n",
                            "      <td>5228.1</td>\n",
                            "      <td>no</td>\n",
                            "    </tr>\n",
                            "    <tr>\n",
                            "      <th>20534</th>\n",
                            "      <td>41</td>\n",
                            "      <td>technician</td>\n",
                            "      <td>married</td>\n",
                            "      <td>professional.course</td>\n",
                            "      <td>no</td>\n",
                            "      <td>yes</td>\n",
                            "      <td>no</td>\n",
                            "      <td>cellular</td>\n",
                            "      <td>aug</td>\n",
                            "      <td>tue</td>\n",
                            "      <td>...</td>\n",
                            "      <td>1</td>\n",
                            "      <td>999</td>\n",
                            "      <td>0</td>\n",
                            "      <td>nonexistent</td>\n",
                            "      <td>1.4</td>\n",
                            "      <td>93.444</td>\n",
                            "      <td>-36.1</td>\n",
                            "      <td>4.966</td>\n",
                            "      <td>5228.1</td>\n",
                            "      <td>no</td>\n",
                            "    </tr>\n",
                            "    <tr>\n",
                            "      <th>25217</th>\n",
                            "      <td>39</td>\n",
                            "      <td>admin.</td>\n",
                            "      <td>married</td>\n",
                            "      <td>university.degree</td>\n",
                            "      <td>no</td>\n",
                            "      <td>no</td>\n",
                            "      <td>no</td>\n",
                            "      <td>cellular</td>\n",
                            "      <td>nov</td>\n",
                            "      <td>tue</td>\n",
                            "      <td>...</td>\n",
                            "      <td>2</td>\n",
                            "      <td>999</td>\n",
                            "      <td>0</td>\n",
                            "      <td>nonexistent</td>\n",
                            "      <td>-0.1</td>\n",
                            "      <td>93.200</td>\n",
                            "      <td>-42.0</td>\n",
                            "      <td>4.153</td>\n",
                            "      <td>5195.8</td>\n",
                            "      <td>no</td>\n",
                            "    </tr>\n",
                            "    <tr>\n",
                            "      <th>28477</th>\n",
                            "      <td>24</td>\n",
                            "      <td>services</td>\n",
                            "      <td>single</td>\n",
                            "      <td>high.school</td>\n",
                            "      <td>no</td>\n",
                            "      <td>yes</td>\n",
                            "      <td>no</td>\n",
                            "      <td>cellular</td>\n",
                            "      <td>apr</td>\n",
                            "      <td>tue</td>\n",
                            "      <td>...</td>\n",
                            "      <td>1</td>\n",
                            "      <td>999</td>\n",
                            "      <td>0</td>\n",
                            "      <td>nonexistent</td>\n",
                            "      <td>-1.8</td>\n",
                            "      <td>93.075</td>\n",
                            "      <td>-47.1</td>\n",
                            "      <td>1.423</td>\n",
                            "      <td>5099.1</td>\n",
                            "      <td>no</td>\n",
                            "    </tr>\n",
                            "    <tr>\n",
                            "      <th>32516</th>\n",
                            "      <td>35</td>\n",
                            "      <td>admin.</td>\n",
                            "      <td>married</td>\n",
                            "      <td>university.degree</td>\n",
                            "      <td>no</td>\n",
                            "      <td>yes</td>\n",
                            "      <td>no</td>\n",
                            "      <td>cellular</td>\n",
                            "      <td>may</td>\n",
                            "      <td>fri</td>\n",
                            "      <td>...</td>\n",
                            "      <td>4</td>\n",
                            "      <td>999</td>\n",
                            "      <td>0</td>\n",
                            "      <td>nonexistent</td>\n",
                            "      <td>-1.8</td>\n",
                            "      <td>92.893</td>\n",
                            "      <td>-46.2</td>\n",
                            "      <td>1.313</td>\n",
                            "      <td>5099.1</td>\n",
                            "      <td>no</td>\n",
                            "    </tr>\n",
                            "    <tr>\n",
                            "      <th>36951</th>\n",
                            "      <td>45</td>\n",
                            "      <td>admin.</td>\n",
                            "      <td>married</td>\n",
                            "      <td>university.degree</td>\n",
                            "      <td>no</td>\n",
                            "      <td>no</td>\n",
                            "      <td>no</td>\n",
                            "      <td>cellular</td>\n",
                            "      <td>jul</td>\n",
                            "      <td>thu</td>\n",
                            "      <td>...</td>\n",
                            "      <td>1</td>\n",
                            "      <td>999</td>\n",
                            "      <td>0</td>\n",
                            "      <td>nonexistent</td>\n",
                            "      <td>-2.9</td>\n",
                            "      <td>92.469</td>\n",
                            "      <td>-33.6</td>\n",
                            "      <td>1.072</td>\n",
                            "      <td>5076.2</td>\n",
                            "      <td>yes</td>\n",
                            "    </tr>\n",
                            "    <tr>\n",
                            "      <th>38281</th>\n",
                            "      <td>71</td>\n",
                            "      <td>retired</td>\n",
                            "      <td>single</td>\n",
                            "      <td>university.degree</td>\n",
                            "      <td>no</td>\n",
                            "      <td>no</td>\n",
                            "      <td>no</td>\n",
                            "      <td>telephone</td>\n",
                            "      <td>oct</td>\n",
                            "      <td>tue</td>\n",
                            "      <td>...</td>\n",
                            "      <td>1</td>\n",
                            "      <td>999</td>\n",
                            "      <td>0</td>\n",
                            "      <td>nonexistent</td>\n",
                            "      <td>-3.4</td>\n",
                            "      <td>92.431</td>\n",
                            "      <td>-26.9</td>\n",
                            "      <td>0.742</td>\n",
                            "      <td>5017.5</td>\n",
                            "      <td>no</td>\n",
                            "    </tr>\n",
                            "  </tbody>\n",
                            "</table>\n",
                            "<p>12 rows × 21 columns</p>\n",
                            "</div>"
                        ],
                        "text/plain": [
                            "       age          job   marital            education  default housing loan  \\\n",
                            "1266    39  blue-collar   married             basic.6y       no      no   no   \n",
                            "12261   36      retired   married              unknown       no      no   no   \n",
                            "14234   27   technician    single  professional.course       no      no   no   \n",
                            "16956   47   technician  divorced          high.school       no     yes   no   \n",
                            "18465   32   technician    single  professional.course       no     yes   no   \n",
                            "20216   55     services   married          high.school  unknown      no   no   \n",
                            "20534   41   technician   married  professional.course       no     yes   no   \n",
                            "25217   39       admin.   married    university.degree       no      no   no   \n",
                            "28477   24     services    single          high.school       no     yes   no   \n",
                            "32516   35       admin.   married    university.degree       no     yes   no   \n",
                            "36951   45       admin.   married    university.degree       no      no   no   \n",
                            "38281   71      retired    single    university.degree       no      no   no   \n",
                            "\n",
                            "         contact month day_of_week  ...  campaign  pdays  previous  \\\n",
                            "1266   telephone   may         thu  ...         1    999         0   \n",
                            "12261  telephone   jul         thu  ...         1    999         0   \n",
                            "14234   cellular   jul         mon  ...         2    999         0   \n",
                            "16956   cellular   jul         thu  ...         3    999         0   \n",
                            "18465   cellular   jul         thu  ...         1    999         0   \n",
                            "20216   cellular   aug         mon  ...         1    999         0   \n",
                            "20534   cellular   aug         tue  ...         1    999         0   \n",
                            "25217   cellular   nov         tue  ...         2    999         0   \n",
                            "28477   cellular   apr         tue  ...         1    999         0   \n",
                            "32516   cellular   may         fri  ...         4    999         0   \n",
                            "36951   cellular   jul         thu  ...         1    999         0   \n",
                            "38281  telephone   oct         tue  ...         1    999         0   \n",
                            "\n",
                            "          poutcome emp.var.rate  cons.price.idx  cons.conf.idx  euribor3m  \\\n",
                            "1266   nonexistent          1.1          93.994          -36.4      4.855   \n",
                            "12261  nonexistent          1.4          93.918          -42.7      4.966   \n",
                            "14234  nonexistent          1.4          93.918          -42.7      4.962   \n",
                            "16956  nonexistent          1.4          93.918          -42.7      4.962   \n",
                            "18465  nonexistent          1.4          93.918          -42.7      4.968   \n",
                            "20216  nonexistent          1.4          93.444          -36.1      4.965   \n",
                            "20534  nonexistent          1.4          93.444          -36.1      4.966   \n",
                            "25217  nonexistent         -0.1          93.200          -42.0      4.153   \n",
                            "28477  nonexistent         -1.8          93.075          -47.1      1.423   \n",
                            "32516  nonexistent         -1.8          92.893          -46.2      1.313   \n",
                            "36951  nonexistent         -2.9          92.469          -33.6      1.072   \n",
                            "38281  nonexistent         -3.4          92.431          -26.9      0.742   \n",
                            "\n",
                            "       nr.employed    y  \n",
                            "1266        5191.0   no  \n",
                            "12261       5228.1   no  \n",
                            "14234       5228.1   no  \n",
                            "16956       5228.1   no  \n",
                            "18465       5228.1   no  \n",
                            "20216       5228.1   no  \n",
                            "20534       5228.1   no  \n",
                            "25217       5195.8   no  \n",
                            "28477       5099.1   no  \n",
                            "32516       5099.1   no  \n",
                            "36951       5076.2  yes  \n",
                            "38281       5017.5   no  \n",
                            "\n",
                            "[12 rows x 21 columns]"
                        ]
                    },
                    "execution_count": 136,
                    "metadata": {},
                    "output_type": "execute_result"
                }
            ],
            "source": [
                "ds[ds.duplicated()]"
            ]
        },
        {
            "cell_type": "markdown",
            "metadata": {},
            "source": [
                "    Conclusión: tenemos 12 filas duplicadas."
            ]
        },
        {
            "cell_type": "markdown",
            "metadata": {},
            "source": [
                "    ?¿?¿?¿----- NO ESTOY SEGURA DE QUE LOS DUCPLICADOS QUE MUESTRA SEAN DUPLICADOS REALES -----?¿?¿?¿?¿"
            ]
        },
        {
            "cell_type": "markdown",
            "metadata": {},
            "source": [
                "**ELIMINAR INFORMACIÓN IRRELEVANTE**"
            ]
        },
        {
            "cell_type": "code",
            "execution_count": 137,
            "metadata": {},
            "outputs": [
                {
                    "data": {
                        "text/html": [
                            "<div>\n",
                            "<style scoped>\n",
                            "    .dataframe tbody tr th:only-of-type {\n",
                            "        vertical-align: middle;\n",
                            "    }\n",
                            "\n",
                            "    .dataframe tbody tr th {\n",
                            "        vertical-align: top;\n",
                            "    }\n",
                            "\n",
                            "    .dataframe thead th {\n",
                            "        text-align: right;\n",
                            "    }\n",
                            "</style>\n",
                            "<table border=\"1\" class=\"dataframe\">\n",
                            "  <thead>\n",
                            "    <tr style=\"text-align: right;\">\n",
                            "      <th></th>\n",
                            "      <th>age</th>\n",
                            "      <th>job</th>\n",
                            "      <th>marital</th>\n",
                            "      <th>education</th>\n",
                            "      <th>default</th>\n",
                            "      <th>housing</th>\n",
                            "      <th>loan</th>\n",
                            "      <th>contact</th>\n",
                            "      <th>campaign</th>\n",
                            "      <th>pdays</th>\n",
                            "      <th>previous</th>\n",
                            "      <th>poutcome</th>\n",
                            "      <th>emp.var.rate</th>\n",
                            "      <th>cons.price.idx</th>\n",
                            "      <th>cons.conf.idx</th>\n",
                            "      <th>euribor3m</th>\n",
                            "      <th>nr.employed</th>\n",
                            "      <th>y</th>\n",
                            "    </tr>\n",
                            "  </thead>\n",
                            "  <tbody>\n",
                            "    <tr>\n",
                            "      <th>0</th>\n",
                            "      <td>56</td>\n",
                            "      <td>housemaid</td>\n",
                            "      <td>married</td>\n",
                            "      <td>basic.4y</td>\n",
                            "      <td>no</td>\n",
                            "      <td>no</td>\n",
                            "      <td>no</td>\n",
                            "      <td>telephone</td>\n",
                            "      <td>1</td>\n",
                            "      <td>999</td>\n",
                            "      <td>0</td>\n",
                            "      <td>nonexistent</td>\n",
                            "      <td>1.1</td>\n",
                            "      <td>93.994</td>\n",
                            "      <td>-36.4</td>\n",
                            "      <td>4.857</td>\n",
                            "      <td>5191.0</td>\n",
                            "      <td>no</td>\n",
                            "    </tr>\n",
                            "    <tr>\n",
                            "      <th>1</th>\n",
                            "      <td>57</td>\n",
                            "      <td>services</td>\n",
                            "      <td>married</td>\n",
                            "      <td>high.school</td>\n",
                            "      <td>unknown</td>\n",
                            "      <td>no</td>\n",
                            "      <td>no</td>\n",
                            "      <td>telephone</td>\n",
                            "      <td>1</td>\n",
                            "      <td>999</td>\n",
                            "      <td>0</td>\n",
                            "      <td>nonexistent</td>\n",
                            "      <td>1.1</td>\n",
                            "      <td>93.994</td>\n",
                            "      <td>-36.4</td>\n",
                            "      <td>4.857</td>\n",
                            "      <td>5191.0</td>\n",
                            "      <td>no</td>\n",
                            "    </tr>\n",
                            "    <tr>\n",
                            "      <th>2</th>\n",
                            "      <td>37</td>\n",
                            "      <td>services</td>\n",
                            "      <td>married</td>\n",
                            "      <td>high.school</td>\n",
                            "      <td>no</td>\n",
                            "      <td>yes</td>\n",
                            "      <td>no</td>\n",
                            "      <td>telephone</td>\n",
                            "      <td>1</td>\n",
                            "      <td>999</td>\n",
                            "      <td>0</td>\n",
                            "      <td>nonexistent</td>\n",
                            "      <td>1.1</td>\n",
                            "      <td>93.994</td>\n",
                            "      <td>-36.4</td>\n",
                            "      <td>4.857</td>\n",
                            "      <td>5191.0</td>\n",
                            "      <td>no</td>\n",
                            "    </tr>\n",
                            "    <tr>\n",
                            "      <th>3</th>\n",
                            "      <td>40</td>\n",
                            "      <td>admin.</td>\n",
                            "      <td>married</td>\n",
                            "      <td>basic.6y</td>\n",
                            "      <td>no</td>\n",
                            "      <td>no</td>\n",
                            "      <td>no</td>\n",
                            "      <td>telephone</td>\n",
                            "      <td>1</td>\n",
                            "      <td>999</td>\n",
                            "      <td>0</td>\n",
                            "      <td>nonexistent</td>\n",
                            "      <td>1.1</td>\n",
                            "      <td>93.994</td>\n",
                            "      <td>-36.4</td>\n",
                            "      <td>4.857</td>\n",
                            "      <td>5191.0</td>\n",
                            "      <td>no</td>\n",
                            "    </tr>\n",
                            "    <tr>\n",
                            "      <th>4</th>\n",
                            "      <td>56</td>\n",
                            "      <td>services</td>\n",
                            "      <td>married</td>\n",
                            "      <td>high.school</td>\n",
                            "      <td>no</td>\n",
                            "      <td>no</td>\n",
                            "      <td>yes</td>\n",
                            "      <td>telephone</td>\n",
                            "      <td>1</td>\n",
                            "      <td>999</td>\n",
                            "      <td>0</td>\n",
                            "      <td>nonexistent</td>\n",
                            "      <td>1.1</td>\n",
                            "      <td>93.994</td>\n",
                            "      <td>-36.4</td>\n",
                            "      <td>4.857</td>\n",
                            "      <td>5191.0</td>\n",
                            "      <td>no</td>\n",
                            "    </tr>\n",
                            "  </tbody>\n",
                            "</table>\n",
                            "</div>"
                        ],
                        "text/plain": [
                            "   age        job  marital    education  default housing loan    contact  \\\n",
                            "0   56  housemaid  married     basic.4y       no      no   no  telephone   \n",
                            "1   57   services  married  high.school  unknown      no   no  telephone   \n",
                            "2   37   services  married  high.school       no     yes   no  telephone   \n",
                            "3   40     admin.  married     basic.6y       no      no   no  telephone   \n",
                            "4   56   services  married  high.school       no      no  yes  telephone   \n",
                            "\n",
                            "   campaign  pdays  previous     poutcome  emp.var.rate  cons.price.idx  \\\n",
                            "0         1    999         0  nonexistent           1.1          93.994   \n",
                            "1         1    999         0  nonexistent           1.1          93.994   \n",
                            "2         1    999         0  nonexistent           1.1          93.994   \n",
                            "3         1    999         0  nonexistent           1.1          93.994   \n",
                            "4         1    999         0  nonexistent           1.1          93.994   \n",
                            "\n",
                            "   cons.conf.idx  euribor3m  nr.employed   y  \n",
                            "0          -36.4      4.857       5191.0  no  \n",
                            "1          -36.4      4.857       5191.0  no  \n",
                            "2          -36.4      4.857       5191.0  no  \n",
                            "3          -36.4      4.857       5191.0  no  \n",
                            "4          -36.4      4.857       5191.0  no  "
                        ]
                    },
                    "execution_count": 137,
                    "metadata": {},
                    "output_type": "execute_result"
                }
            ],
            "source": [
                "ds.drop([\"duration\", \"month\", \"day_of_week\"], axis = 1 , inplace = True)\n",
                "ds.head()"
            ]
        },
        {
            "cell_type": "markdown",
            "metadata": {},
            "source": [
                "VARIABLES ELIMINADAS: \"duration\", \"month\", \"day_of_week\"\"\n",
                "\n",
                "    Conclusión: Están relacionadas con la llamada al cliente, no aportan gran información relevante a la variable predictora y hay otras columnas que indican información también relacionada con el contacto alcliente y son más relevantes y concretas como ---------------------------------------------------------------------\n",
                "    --------------------------------------"
            ]
        },
        {
            "cell_type": "markdown",
            "metadata": {},
            "source": [
                "**VARIABLES NUMÉRICAS**"
            ]
        },
        {
            "cell_type": "markdown",
            "metadata": {},
            "source": [
                "*   Análisis Var age\n",
                "\n",
                "FALLO: No resulta el codgo, me da resultados de edad más de 40 no se porque"
            ]
        },
        {
            "cell_type": "code",
            "execution_count": 138,
            "metadata": {},
            "outputs": [
                {
                    "data": {
                        "text/plain": [
                            "age  job         marital  education          default  housing  loan  contact    campaign  pdays  previous  poutcome     emp.var.rate  cons.price.idx  cons.conf.idx  euribor3m  nr.employed  y  \n",
                            "27   admin.      single   high.school        no       no       no    cellular   1         999    0         nonexistent   1.4          93.918          -42.7          4.962      5228.1       no     7\n",
                            "28   services    married  high.school        no       no       no    cellular   1         999    0         nonexistent   1.4          93.918          -42.7          4.962      5228.1       no     7\n",
                            "29   admin.      single   university.degree  no       yes      no    cellular   1         999    0         nonexistent   1.4          93.444          -36.1          4.964      5228.1       no     6\n",
                            "43   housemaid   married  basic.4y           no       yes      no    cellular   1         999    0         nonexistent   1.4          93.918          -42.7          4.962      5228.1       no     6\n",
                            "34   services    married  high.school        no       no       no    telephone  1         999    0         nonexistent   1.1          93.994          -36.4          4.857      5191.0       no     6\n",
                            "                                                                                                                                                                                                   ..\n",
                            "     unknown     married  basic.4y           no       yes      no    cellular   1         999    0         nonexistent  -1.8          93.075          -47.1          1.406      5099.1       yes    1\n",
                            "                                                                                2         999    0         nonexistent  -1.8          93.075          -47.1          1.406      5099.1       no     1\n",
                            "                                                               yes   cellular   1         999    0         nonexistent  -1.8          93.075          -47.1          1.406      5099.1       no     1\n",
                            "                                                                                4         999    0         nonexistent  -1.8          93.075          -47.1          1.406      5099.1       no     1\n",
                            "     unemployed  single   university.degree  no       yes      no    cellular   1         999    0         nonexistent  -1.8          93.075          -47.1          1.423      5099.1       yes    1\n",
                            "Name: count, Length: 38384, dtype: int64"
                        ]
                    },
                    "execution_count": 138,
                    "metadata": {},
                    "output_type": "execute_result"
                }
            ],
            "source": [
                "ds[ds[\"age\"]>23].value_counts()"
            ]
        },
        {
            "cell_type": "markdown",
            "metadata": {},
            "source": [
                "* Análisis Var housing: ¿Tiene hipoteca? (Sí/No)"
            ]
        },
        {
            "cell_type": "code",
            "execution_count": 139,
            "metadata": {},
            "outputs": [
                {
                    "data": {
                        "text/plain": [
                            "age               21576\n",
                            "job               21576\n",
                            "marital           21576\n",
                            "education         21576\n",
                            "default           21576\n",
                            "housing           21576\n",
                            "loan              21576\n",
                            "contact           21576\n",
                            "campaign          21576\n",
                            "pdays             21576\n",
                            "previous          21576\n",
                            "poutcome          21576\n",
                            "emp.var.rate      21576\n",
                            "cons.price.idx    21576\n",
                            "cons.conf.idx     21576\n",
                            "euribor3m         21576\n",
                            "nr.employed       21576\n",
                            "y                 21576\n",
                            "dtype: int64"
                        ]
                    },
                    "execution_count": 139,
                    "metadata": {},
                    "output_type": "execute_result"
                }
            ],
            "source": [
                "housing_count= ds[ds[\"housing\"] == \"yes\"].count()\n",
                "housing_count"
            ]
        },
        {
            "cell_type": "code",
            "execution_count": 140,
            "metadata": {},
            "outputs": [
                {
                    "name": "stdout",
                    "output_type": "stream",
                    "text": [
                        "y           no   yes\n",
                        "housing             \n",
                        "no       16596  2026\n",
                        "unknown    883   107\n",
                        "yes      19069  2507\n"
                    ]
                }
            ],
            "source": [
                "print(ds.groupby([\"housing\", \"y\"]).size().unstack())"
            ]
        },
        {
            "cell_type": "markdown",
            "metadata": {},
            "source": [
                "    Conclusión:\n",
                "    Considerando el gran número de clientes que tienen una hipoteca, comparamos este dato con la predictoria para ver cuántos de ellos Si los clientes tienen una hipoteca es posible que quieran o no pedir un deposito a largo plazo?"
            ]
        },
        {
            "cell_type": "markdown",
            "metadata": {},
            "source": [
                "* Análisis Var loan: ¿Tiene préstamo personal? (Sí/No)"
            ]
        },
        {
            "cell_type": "code",
            "execution_count": 141,
            "metadata": {},
            "outputs": [
                {
                    "data": {
                        "text/plain": [
                            "age               6248\n",
                            "job               6248\n",
                            "marital           6248\n",
                            "education         6248\n",
                            "default           6248\n",
                            "housing           6248\n",
                            "loan              6248\n",
                            "contact           6248\n",
                            "campaign          6248\n",
                            "pdays             6248\n",
                            "previous          6248\n",
                            "poutcome          6248\n",
                            "emp.var.rate      6248\n",
                            "cons.price.idx    6248\n",
                            "cons.conf.idx     6248\n",
                            "euribor3m         6248\n",
                            "nr.employed       6248\n",
                            "y                 6248\n",
                            "dtype: int64"
                        ]
                    },
                    "execution_count": 141,
                    "metadata": {},
                    "output_type": "execute_result"
                }
            ],
            "source": [
                "loan_count= ds[ds[\"loan\"] == \"yes\"].count()\n",
                "loan_count"
            ]
        },
        {
            "cell_type": "code",
            "execution_count": 142,
            "metadata": {},
            "outputs": [
                {
                    "name": "stdout",
                    "output_type": "stream",
                    "text": [
                        "y           no   yes\n",
                        "loan                \n",
                        "no       30100  3850\n",
                        "unknown    883   107\n",
                        "yes       5565   683\n"
                    ]
                }
            ],
            "source": [
                "print(ds.groupby([\"loan\", \"y\"]).size().unstack())"
            ]
        },
        {
            "cell_type": "markdown",
            "metadata": {},
            "source": [
                "    Conclusión: \n",
                "    El número de clientes que sí tiene un préstamo y también contrató un deposito son 683, estos clientes seguramente no contratarian la loan."
            ]
        },
        {
            "cell_type": "code",
            "execution_count": 143,
            "metadata": {},
            "outputs": [
                {
                    "data": {
                        "image/png": "[encoded data removed]",
                        "text/plain": [
                            "<Figure size 800x600 with 1 Axes>"
                        ]
                    },
                    "metadata": {},
                    "output_type": "display_data"
                }
            ],
            "source": [
                "plt.figure(figsize=(8, 6))\n",
                "sns.countplot(x='housing', hue='y', data=ds)\n",
                "plt.title('Relación entre Hipoteca y Contratación de Depósito')\n",
                "plt.xlabel('Hipoteca (housing)')\n",
                "plt.ylabel('Número de Clientes')\n",
                "plt.show()"
            ]
        },
        {
            "cell_type": "markdown",
            "metadata": {},
            "source": [
                "\n",
                "    Conclusión:\n",
                "    Si los clientes tienen un préstamo personal es posible que quieran o no pedir un deposito a largo plazo?"
            ]
        },
        {
            "cell_type": "markdown",
            "metadata": {},
            "source": [
                "* Análisis VAr poutcome: Resultado de la campaña anterior ¿¿??¿ CONTRATARON O NO LA LOAN ?¿?¿"
            ]
        },
        {
            "cell_type": "code",
            "execution_count": 144,
            "metadata": {},
            "outputs": [
                {
                    "data": {
                        "text/plain": [
                            "0        nonexistent\n",
                            "1        nonexistent\n",
                            "2        nonexistent\n",
                            "3        nonexistent\n",
                            "4        nonexistent\n",
                            "            ...     \n",
                            "41183    nonexistent\n",
                            "41184    nonexistent\n",
                            "41185    nonexistent\n",
                            "41186    nonexistent\n",
                            "41187        failure\n",
                            "Name: poutcome, Length: 41188, dtype: object"
                        ]
                    },
                    "execution_count": 144,
                    "metadata": {},
                    "output_type": "execute_result"
                }
            ],
            "source": [
                "ds[\"poutcome\"]"
            ]
        },
        {
            "cell_type": "code",
            "execution_count": 145,
            "metadata": {},
            "outputs": [
                {
                    "data": {
                        "text/plain": [
                            "age               35563\n",
                            "job               35563\n",
                            "marital           35563\n",
                            "education         35563\n",
                            "default           35563\n",
                            "housing           35563\n",
                            "loan              35563\n",
                            "contact           35563\n",
                            "campaign          35563\n",
                            "pdays             35563\n",
                            "previous          35563\n",
                            "poutcome          35563\n",
                            "emp.var.rate      35563\n",
                            "cons.price.idx    35563\n",
                            "cons.conf.idx     35563\n",
                            "euribor3m         35563\n",
                            "nr.employed       35563\n",
                            "y                 35563\n",
                            "dtype: int64"
                        ]
                    },
                    "execution_count": 145,
                    "metadata": {},
                    "output_type": "execute_result"
                }
            ],
            "source": [
                "ds[ds[\"poutcome\"] == \"nonexistent\"].count()"
            ]
        },
        {
            "cell_type": "code",
            "execution_count": 146,
            "metadata": {},
            "outputs": [],
            "source": [
                "ds = ds.drop(ds[ds[\"poutcome\"] == \"nonexistent\"].index)"
            ]
        },
        {
            "cell_type": "code",
            "execution_count": 147,
            "metadata": {},
            "outputs": [
                {
                    "name": "stdout",
                    "output_type": "stream",
                    "text": [
                        "poutcome\n",
                        "failure    4252\n",
                        "success    1373\n",
                        "Name: count, dtype: int64\n"
                    ]
                }
            ],
            "source": [
                "print(ds[\"poutcome\"].value_counts())"
            ]
        },
        {
            "cell_type": "code",
            "execution_count": 148,
            "metadata": {},
            "outputs": [
                {
                    "data": {
                        "text/plain": [
                            "age               0\n",
                            "job               0\n",
                            "marital           0\n",
                            "education         0\n",
                            "default           0\n",
                            "housing           0\n",
                            "loan              0\n",
                            "contact           0\n",
                            "campaign          0\n",
                            "pdays             0\n",
                            "previous          0\n",
                            "poutcome          0\n",
                            "emp.var.rate      0\n",
                            "cons.price.idx    0\n",
                            "cons.conf.idx     0\n",
                            "euribor3m         0\n",
                            "nr.employed       0\n",
                            "y                 0\n",
                            "dtype: int64"
                        ]
                    },
                    "execution_count": 148,
                    "metadata": {},
                    "output_type": "execute_result"
                }
            ],
            "source": [
                "ds[ds[\"poutcome\"] == \"nonexistent\"].count()"
            ]
        },
        {
            "cell_type": "markdown",
            "metadata": {},
            "source": [
                "    Conclusión:"
            ]
        },
        {
            "cell_type": "markdown",
            "metadata": {},
            "source": [
                "* Analisis Var previous"
            ]
        },
        {
            "cell_type": "code",
            "execution_count": 149,
            "metadata": {},
            "outputs": [
                {
                    "data": {
                        "text/plain": [
                            "Series([], Name: count, dtype: int64)"
                        ]
                    },
                    "execution_count": 149,
                    "metadata": {},
                    "output_type": "execute_result"
                }
            ],
            "source": [
                "ds[ds[\"previous\"]==0].value_counts()\n"
            ]
        },
        {
            "cell_type": "code",
            "execution_count": 150,
            "metadata": {},
            "outputs": [
                {
                    "ename": "KeyError",
                    "evalue": "np.int64(7)",
                    "output_type": "error",
                    "traceback": [
                        "\u001b[0;31m---------------------------------------------------------------------------\u001b[0m",
                        "\u001b[0;31mKeyError\u001b[0m                                  Traceback (most recent call last)",
                        "File \u001b[0;32m~/.local/lib/python3.10/site-packages/pandas/core/indexes/base.py:3805\u001b[0m, in \u001b[0;36mIndex.get_loc\u001b[0;34m(self, key)\u001b[0m\n\u001b[1;32m   3804\u001b[0m \u001b[38;5;28;01mtry\u001b[39;00m:\n\u001b[0;32m-> 3805\u001b[0m     \u001b[38;5;28;01mreturn\u001b[39;00m \u001b[38;5;28;43mself\u001b[39;49m\u001b[38;5;241;43m.\u001b[39;49m\u001b[43m_engine\u001b[49m\u001b[38;5;241;43m.\u001b[39;49m\u001b[43mget_loc\u001b[49m\u001b[43m(\u001b[49m\u001b[43mcasted_key\u001b[49m\u001b[43m)\u001b[49m\n\u001b[1;32m   3806\u001b[0m \u001b[38;5;28;01mexcept\u001b[39;00m \u001b[38;5;167;01mKeyError\u001b[39;00m \u001b[38;5;28;01mas\u001b[39;00m err:\n",
                        "File \u001b[0;32mindex.pyx:167\u001b[0m, in \u001b[0;36mpandas._libs.index.IndexEngine.get_loc\u001b[0;34m()\u001b[0m\n",
                        "File \u001b[0;32mindex.pyx:196\u001b[0m, in \u001b[0;36mpandas._libs.index.IndexEngine.get_loc\u001b[0;34m()\u001b[0m\n",
                        "File \u001b[0;32mpandas/_libs/hashtable_class_helper.pxi:7081\u001b[0m, in \u001b[0;36mpandas._libs.hashtable.PyObjectHashTable.get_item\u001b[0;34m()\u001b[0m\n",
                        "File \u001b[0;32mpandas/_libs/hashtable_class_helper.pxi:7089\u001b[0m, in \u001b[0;36mpandas._libs.hashtable.PyObjectHashTable.get_item\u001b[0;34m()\u001b[0m\n",
                        "\u001b[0;31mKeyError\u001b[0m: np.int64(7)",
                        "\nThe above exception was the direct cause of the following exception:\n",
                        "\u001b[0;31mKeyError\u001b[0m                                  Traceback (most recent call last)",
                        "Cell \u001b[0;32mIn[150], line 1\u001b[0m\n\u001b[0;32m----> 1\u001b[0m \u001b[43mds\u001b[49m\u001b[43m[\u001b[49m\u001b[43mds\u001b[49m\u001b[43m[\u001b[49m\u001b[38;5;124;43m\"\u001b[39;49m\u001b[38;5;124;43mprevious\u001b[39;49m\u001b[38;5;124;43m\"\u001b[39;49m\u001b[43m]\u001b[49m\u001b[38;5;241;43m.\u001b[39;49m\u001b[43mmax\u001b[49m\u001b[43m(\u001b[49m\u001b[43m)\u001b[49m\u001b[43m]\u001b[49m\n",
                        "File \u001b[0;32m~/.local/lib/python3.10/site-packages/pandas/core/frame.py:4102\u001b[0m, in \u001b[0;36mDataFrame.__getitem__\u001b[0;34m(self, key)\u001b[0m\n\u001b[1;32m   4100\u001b[0m \u001b[38;5;28;01mif\u001b[39;00m \u001b[38;5;28mself\u001b[39m\u001b[38;5;241m.\u001b[39mcolumns\u001b[38;5;241m.\u001b[39mnlevels \u001b[38;5;241m>\u001b[39m \u001b[38;5;241m1\u001b[39m:\n\u001b[1;32m   4101\u001b[0m     \u001b[38;5;28;01mreturn\u001b[39;00m \u001b[38;5;28mself\u001b[39m\u001b[38;5;241m.\u001b[39m_getitem_multilevel(key)\n\u001b[0;32m-> 4102\u001b[0m indexer \u001b[38;5;241m=\u001b[39m \u001b[38;5;28;43mself\u001b[39;49m\u001b[38;5;241;43m.\u001b[39;49m\u001b[43mcolumns\u001b[49m\u001b[38;5;241;43m.\u001b[39;49m\u001b[43mget_loc\u001b[49m\u001b[43m(\u001b[49m\u001b[43mkey\u001b[49m\u001b[43m)\u001b[49m\n\u001b[1;32m   4103\u001b[0m \u001b[38;5;28;01mif\u001b[39;00m is_integer(indexer):\n\u001b[1;32m   4104\u001b[0m     indexer \u001b[38;5;241m=\u001b[39m [indexer]\n",
                        "File \u001b[0;32m~/.local/lib/python3.10/site-packages/pandas/core/indexes/base.py:3812\u001b[0m, in \u001b[0;36mIndex.get_loc\u001b[0;34m(self, key)\u001b[0m\n\u001b[1;32m   3807\u001b[0m     \u001b[38;5;28;01mif\u001b[39;00m \u001b[38;5;28misinstance\u001b[39m(casted_key, \u001b[38;5;28mslice\u001b[39m) \u001b[38;5;129;01mor\u001b[39;00m (\n\u001b[1;32m   3808\u001b[0m         \u001b[38;5;28misinstance\u001b[39m(casted_key, abc\u001b[38;5;241m.\u001b[39mIterable)\n\u001b[1;32m   3809\u001b[0m         \u001b[38;5;129;01mand\u001b[39;00m \u001b[38;5;28many\u001b[39m(\u001b[38;5;28misinstance\u001b[39m(x, \u001b[38;5;28mslice\u001b[39m) \u001b[38;5;28;01mfor\u001b[39;00m x \u001b[38;5;129;01min\u001b[39;00m casted_key)\n\u001b[1;32m   3810\u001b[0m     ):\n\u001b[1;32m   3811\u001b[0m         \u001b[38;5;28;01mraise\u001b[39;00m InvalidIndexError(key)\n\u001b[0;32m-> 3812\u001b[0m     \u001b[38;5;28;01mraise\u001b[39;00m \u001b[38;5;167;01mKeyError\u001b[39;00m(key) \u001b[38;5;28;01mfrom\u001b[39;00m\u001b[38;5;250m \u001b[39m\u001b[38;5;21;01merr\u001b[39;00m\n\u001b[1;32m   3813\u001b[0m \u001b[38;5;28;01mexcept\u001b[39;00m \u001b[38;5;167;01mTypeError\u001b[39;00m:\n\u001b[1;32m   3814\u001b[0m     \u001b[38;5;66;03m# If we have a listlike key, _check_indexing_error will raise\u001b[39;00m\n\u001b[1;32m   3815\u001b[0m     \u001b[38;5;66;03m#  InvalidIndexError. Otherwise we fall through and re-raise\u001b[39;00m\n\u001b[1;32m   3816\u001b[0m     \u001b[38;5;66;03m#  the TypeError.\u001b[39;00m\n\u001b[1;32m   3817\u001b[0m     \u001b[38;5;28mself\u001b[39m\u001b[38;5;241m.\u001b[39m_check_indexing_error(key)\n",
                        "\u001b[0;31mKeyError\u001b[0m: np.int64(7)"
                    ]
                }
            ],
            "source": [
                "ds[ds[\"previous\"].max()]"
            ]
        },
        {
            "cell_type": "code",
            "execution_count": null,
            "metadata": {},
            "outputs": [
                {
                    "data": {
                        "text/html": [
                            "<div>\n",
                            "<style scoped>\n",
                            "    .dataframe tbody tr th:only-of-type {\n",
                            "        vertical-align: middle;\n",
                            "    }\n",
                            "\n",
                            "    .dataframe tbody tr th {\n",
                            "        vertical-align: top;\n",
                            "    }\n",
                            "\n",
                            "    .dataframe thead th {\n",
                            "        text-align: right;\n",
                            "    }\n",
                            "</style>\n",
                            "<table border=\"1\" class=\"dataframe\">\n",
                            "  <thead>\n",
                            "    <tr style=\"text-align: right;\">\n",
                            "      <th></th>\n",
                            "      <th>age</th>\n",
                            "      <th>job</th>\n",
                            "      <th>marital</th>\n",
                            "      <th>education</th>\n",
                            "      <th>default</th>\n",
                            "      <th>housing</th>\n",
                            "      <th>loan</th>\n",
                            "      <th>contact</th>\n",
                            "      <th>month</th>\n",
                            "      <th>day_of_week</th>\n",
                            "      <th>...</th>\n",
                            "      <th>campaign</th>\n",
                            "      <th>pdays</th>\n",
                            "      <th>previous</th>\n",
                            "      <th>poutcome</th>\n",
                            "      <th>emp.var.rate</th>\n",
                            "      <th>cons.price.idx</th>\n",
                            "      <th>cons.conf.idx</th>\n",
                            "      <th>euribor3m</th>\n",
                            "      <th>nr.employed</th>\n",
                            "      <th>y</th>\n",
                            "    </tr>\n",
                            "  </thead>\n",
                            "  <tbody>\n",
                            "    <tr>\n",
                            "      <th>0</th>\n",
                            "      <td>56</td>\n",
                            "      <td>housemaid</td>\n",
                            "      <td>married</td>\n",
                            "      <td>basic.4y</td>\n",
                            "      <td>no</td>\n",
                            "      <td>no</td>\n",
                            "      <td>no</td>\n",
                            "      <td>telephone</td>\n",
                            "      <td>may</td>\n",
                            "      <td>mon</td>\n",
                            "      <td>...</td>\n",
                            "      <td>1</td>\n",
                            "      <td>999</td>\n",
                            "      <td>0</td>\n",
                            "      <td>nonexistent</td>\n",
                            "      <td>1.1</td>\n",
                            "      <td>93.994</td>\n",
                            "      <td>-36.4</td>\n",
                            "      <td>4.857</td>\n",
                            "      <td>5191.0</td>\n",
                            "      <td>no</td>\n",
                            "    </tr>\n",
                            "    <tr>\n",
                            "      <th>1</th>\n",
                            "      <td>57</td>\n",
                            "      <td>services</td>\n",
                            "      <td>married</td>\n",
                            "      <td>high.school</td>\n",
                            "      <td>unknown</td>\n",
                            "      <td>no</td>\n",
                            "      <td>no</td>\n",
                            "      <td>telephone</td>\n",
                            "      <td>may</td>\n",
                            "      <td>mon</td>\n",
                            "      <td>...</td>\n",
                            "      <td>1</td>\n",
                            "      <td>999</td>\n",
                            "      <td>0</td>\n",
                            "      <td>nonexistent</td>\n",
                            "      <td>1.1</td>\n",
                            "      <td>93.994</td>\n",
                            "      <td>-36.4</td>\n",
                            "      <td>4.857</td>\n",
                            "      <td>5191.0</td>\n",
                            "      <td>no</td>\n",
                            "    </tr>\n",
                            "    <tr>\n",
                            "      <th>2</th>\n",
                            "      <td>37</td>\n",
                            "      <td>services</td>\n",
                            "      <td>married</td>\n",
                            "      <td>high.school</td>\n",
                            "      <td>no</td>\n",
                            "      <td>yes</td>\n",
                            "      <td>no</td>\n",
                            "      <td>telephone</td>\n",
                            "      <td>may</td>\n",
                            "      <td>mon</td>\n",
                            "      <td>...</td>\n",
                            "      <td>1</td>\n",
                            "      <td>999</td>\n",
                            "      <td>0</td>\n",
                            "      <td>nonexistent</td>\n",
                            "      <td>1.1</td>\n",
                            "      <td>93.994</td>\n",
                            "      <td>-36.4</td>\n",
                            "      <td>4.857</td>\n",
                            "      <td>5191.0</td>\n",
                            "      <td>no</td>\n",
                            "    </tr>\n",
                            "    <tr>\n",
                            "      <th>3</th>\n",
                            "      <td>40</td>\n",
                            "      <td>admin.</td>\n",
                            "      <td>married</td>\n",
                            "      <td>basic.6y</td>\n",
                            "      <td>no</td>\n",
                            "      <td>no</td>\n",
                            "      <td>no</td>\n",
                            "      <td>telephone</td>\n",
                            "      <td>may</td>\n",
                            "      <td>mon</td>\n",
                            "      <td>...</td>\n",
                            "      <td>1</td>\n",
                            "      <td>999</td>\n",
                            "      <td>0</td>\n",
                            "      <td>nonexistent</td>\n",
                            "      <td>1.1</td>\n",
                            "      <td>93.994</td>\n",
                            "      <td>-36.4</td>\n",
                            "      <td>4.857</td>\n",
                            "      <td>5191.0</td>\n",
                            "      <td>no</td>\n",
                            "    </tr>\n",
                            "    <tr>\n",
                            "      <th>4</th>\n",
                            "      <td>56</td>\n",
                            "      <td>services</td>\n",
                            "      <td>married</td>\n",
                            "      <td>high.school</td>\n",
                            "      <td>no</td>\n",
                            "      <td>no</td>\n",
                            "      <td>yes</td>\n",
                            "      <td>telephone</td>\n",
                            "      <td>may</td>\n",
                            "      <td>mon</td>\n",
                            "      <td>...</td>\n",
                            "      <td>1</td>\n",
                            "      <td>999</td>\n",
                            "      <td>0</td>\n",
                            "      <td>nonexistent</td>\n",
                            "      <td>1.1</td>\n",
                            "      <td>93.994</td>\n",
                            "      <td>-36.4</td>\n",
                            "      <td>4.857</td>\n",
                            "      <td>5191.0</td>\n",
                            "      <td>no</td>\n",
                            "    </tr>\n",
                            "    <tr>\n",
                            "      <th>...</th>\n",
                            "      <td>...</td>\n",
                            "      <td>...</td>\n",
                            "      <td>...</td>\n",
                            "      <td>...</td>\n",
                            "      <td>...</td>\n",
                            "      <td>...</td>\n",
                            "      <td>...</td>\n",
                            "      <td>...</td>\n",
                            "      <td>...</td>\n",
                            "      <td>...</td>\n",
                            "      <td>...</td>\n",
                            "      <td>...</td>\n",
                            "      <td>...</td>\n",
                            "      <td>...</td>\n",
                            "      <td>...</td>\n",
                            "      <td>...</td>\n",
                            "      <td>...</td>\n",
                            "      <td>...</td>\n",
                            "      <td>...</td>\n",
                            "      <td>...</td>\n",
                            "      <td>...</td>\n",
                            "    </tr>\n",
                            "    <tr>\n",
                            "      <th>41181</th>\n",
                            "      <td>37</td>\n",
                            "      <td>admin.</td>\n",
                            "      <td>married</td>\n",
                            "      <td>university.degree</td>\n",
                            "      <td>no</td>\n",
                            "      <td>yes</td>\n",
                            "      <td>no</td>\n",
                            "      <td>cellular</td>\n",
                            "      <td>nov</td>\n",
                            "      <td>fri</td>\n",
                            "      <td>...</td>\n",
                            "      <td>1</td>\n",
                            "      <td>999</td>\n",
                            "      <td>0</td>\n",
                            "      <td>nonexistent</td>\n",
                            "      <td>-1.1</td>\n",
                            "      <td>94.767</td>\n",
                            "      <td>-50.8</td>\n",
                            "      <td>1.028</td>\n",
                            "      <td>4963.6</td>\n",
                            "      <td>yes</td>\n",
                            "    </tr>\n",
                            "    <tr>\n",
                            "      <th>41183</th>\n",
                            "      <td>73</td>\n",
                            "      <td>retired</td>\n",
                            "      <td>married</td>\n",
                            "      <td>professional.course</td>\n",
                            "      <td>no</td>\n",
                            "      <td>yes</td>\n",
                            "      <td>no</td>\n",
                            "      <td>cellular</td>\n",
                            "      <td>nov</td>\n",
                            "      <td>fri</td>\n",
                            "      <td>...</td>\n",
                            "      <td>1</td>\n",
                            "      <td>999</td>\n",
                            "      <td>0</td>\n",
                            "      <td>nonexistent</td>\n",
                            "      <td>-1.1</td>\n",
                            "      <td>94.767</td>\n",
                            "      <td>-50.8</td>\n",
                            "      <td>1.028</td>\n",
                            "      <td>4963.6</td>\n",
                            "      <td>yes</td>\n",
                            "    </tr>\n",
                            "    <tr>\n",
                            "      <th>41184</th>\n",
                            "      <td>46</td>\n",
                            "      <td>blue-collar</td>\n",
                            "      <td>married</td>\n",
                            "      <td>professional.course</td>\n",
                            "      <td>no</td>\n",
                            "      <td>no</td>\n",
                            "      <td>no</td>\n",
                            "      <td>cellular</td>\n",
                            "      <td>nov</td>\n",
                            "      <td>fri</td>\n",
                            "      <td>...</td>\n",
                            "      <td>1</td>\n",
                            "      <td>999</td>\n",
                            "      <td>0</td>\n",
                            "      <td>nonexistent</td>\n",
                            "      <td>-1.1</td>\n",
                            "      <td>94.767</td>\n",
                            "      <td>-50.8</td>\n",
                            "      <td>1.028</td>\n",
                            "      <td>4963.6</td>\n",
                            "      <td>no</td>\n",
                            "    </tr>\n",
                            "    <tr>\n",
                            "      <th>41185</th>\n",
                            "      <td>56</td>\n",
                            "      <td>retired</td>\n",
                            "      <td>married</td>\n",
                            "      <td>university.degree</td>\n",
                            "      <td>no</td>\n",
                            "      <td>yes</td>\n",
                            "      <td>no</td>\n",
                            "      <td>cellular</td>\n",
                            "      <td>nov</td>\n",
                            "      <td>fri</td>\n",
                            "      <td>...</td>\n",
                            "      <td>2</td>\n",
                            "      <td>999</td>\n",
                            "      <td>0</td>\n",
                            "      <td>nonexistent</td>\n",
                            "      <td>-1.1</td>\n",
                            "      <td>94.767</td>\n",
                            "      <td>-50.8</td>\n",
                            "      <td>1.028</td>\n",
                            "      <td>4963.6</td>\n",
                            "      <td>no</td>\n",
                            "    </tr>\n",
                            "    <tr>\n",
                            "      <th>41186</th>\n",
                            "      <td>44</td>\n",
                            "      <td>technician</td>\n",
                            "      <td>married</td>\n",
                            "      <td>professional.course</td>\n",
                            "      <td>no</td>\n",
                            "      <td>no</td>\n",
                            "      <td>no</td>\n",
                            "      <td>cellular</td>\n",
                            "      <td>nov</td>\n",
                            "      <td>fri</td>\n",
                            "      <td>...</td>\n",
                            "      <td>1</td>\n",
                            "      <td>999</td>\n",
                            "      <td>0</td>\n",
                            "      <td>nonexistent</td>\n",
                            "      <td>-1.1</td>\n",
                            "      <td>94.767</td>\n",
                            "      <td>-50.8</td>\n",
                            "      <td>1.028</td>\n",
                            "      <td>4963.6</td>\n",
                            "      <td>yes</td>\n",
                            "    </tr>\n",
                            "  </tbody>\n",
                            "</table>\n",
                            "<p>35563 rows × 21 columns</p>\n",
                            "</div>"
                        ],
                        "text/plain": [
                            "       age          job  marital            education  default housing loan  \\\n",
                            "0       56    housemaid  married             basic.4y       no      no   no   \n",
                            "1       57     services  married          high.school  unknown      no   no   \n",
                            "2       37     services  married          high.school       no     yes   no   \n",
                            "3       40       admin.  married             basic.6y       no      no   no   \n",
                            "4       56     services  married          high.school       no      no  yes   \n",
                            "...    ...          ...      ...                  ...      ...     ...  ...   \n",
                            "41181   37       admin.  married    university.degree       no     yes   no   \n",
                            "41183   73      retired  married  professional.course       no     yes   no   \n",
                            "41184   46  blue-collar  married  professional.course       no      no   no   \n",
                            "41185   56      retired  married    university.degree       no     yes   no   \n",
                            "41186   44   technician  married  professional.course       no      no   no   \n",
                            "\n",
                            "         contact month day_of_week  ...  campaign  pdays  previous  \\\n",
                            "0      telephone   may         mon  ...         1    999         0   \n",
                            "1      telephone   may         mon  ...         1    999         0   \n",
                            "2      telephone   may         mon  ...         1    999         0   \n",
                            "3      telephone   may         mon  ...         1    999         0   \n",
                            "4      telephone   may         mon  ...         1    999         0   \n",
                            "...          ...   ...         ...  ...       ...    ...       ...   \n",
                            "41181   cellular   nov         fri  ...         1    999         0   \n",
                            "41183   cellular   nov         fri  ...         1    999         0   \n",
                            "41184   cellular   nov         fri  ...         1    999         0   \n",
                            "41185   cellular   nov         fri  ...         2    999         0   \n",
                            "41186   cellular   nov         fri  ...         1    999         0   \n",
                            "\n",
                            "          poutcome emp.var.rate  cons.price.idx  cons.conf.idx  euribor3m  \\\n",
                            "0      nonexistent          1.1          93.994          -36.4      4.857   \n",
                            "1      nonexistent          1.1          93.994          -36.4      4.857   \n",
                            "2      nonexistent          1.1          93.994          -36.4      4.857   \n",
                            "3      nonexistent          1.1          93.994          -36.4      4.857   \n",
                            "4      nonexistent          1.1          93.994          -36.4      4.857   \n",
                            "...            ...          ...             ...            ...        ...   \n",
                            "41181  nonexistent         -1.1          94.767          -50.8      1.028   \n",
                            "41183  nonexistent         -1.1          94.767          -50.8      1.028   \n",
                            "41184  nonexistent         -1.1          94.767          -50.8      1.028   \n",
                            "41185  nonexistent         -1.1          94.767          -50.8      1.028   \n",
                            "41186  nonexistent         -1.1          94.767          -50.8      1.028   \n",
                            "\n",
                            "       nr.employed    y  \n",
                            "0           5191.0   no  \n",
                            "1           5191.0   no  \n",
                            "2           5191.0   no  \n",
                            "3           5191.0   no  \n",
                            "4           5191.0   no  \n",
                            "...            ...  ...  \n",
                            "41181       4963.6  yes  \n",
                            "41183       4963.6  yes  \n",
                            "41184       4963.6   no  \n",
                            "41185       4963.6   no  \n",
                            "41186       4963.6  yes  \n",
                            "\n",
                            "[35563 rows x 21 columns]"
                        ]
                    },
                    "execution_count": 78,
                    "metadata": {},
                    "output_type": "execute_result"
                }
            ],
            "source": [
                "ds[ds[\"previous\"]== 0]"
            ]
        },
        {
            "cell_type": "markdown",
            "metadata": {},
            "source": [
                "    De total 41188 clientes  no se han contactado en la campaña anterior 35563. Podrían ser nuevos clientes potenciales"
            ]
        },
        {
            "cell_type": "markdown",
            "metadata": {},
            "source": [
                "* Análisis Var. campaign: Num contactos realizados en campaña actual"
            ]
        },
        {
            "cell_type": "code",
            "execution_count": null,
            "metadata": {},
            "outputs": [
                {
                    "data": {
                        "text/html": [
                            "<div>\n",
                            "<style scoped>\n",
                            "    .dataframe tbody tr th:only-of-type {\n",
                            "        vertical-align: middle;\n",
                            "    }\n",
                            "\n",
                            "    .dataframe tbody tr th {\n",
                            "        vertical-align: top;\n",
                            "    }\n",
                            "\n",
                            "    .dataframe thead th {\n",
                            "        text-align: right;\n",
                            "    }\n",
                            "</style>\n",
                            "<table border=\"1\" class=\"dataframe\">\n",
                            "  <thead>\n",
                            "    <tr style=\"text-align: right;\">\n",
                            "      <th></th>\n",
                            "      <th>age</th>\n",
                            "      <th>job</th>\n",
                            "      <th>marital</th>\n",
                            "      <th>education</th>\n",
                            "      <th>default</th>\n",
                            "      <th>housing</th>\n",
                            "      <th>loan</th>\n",
                            "      <th>contact</th>\n",
                            "      <th>month</th>\n",
                            "      <th>day_of_week</th>\n",
                            "      <th>...</th>\n",
                            "      <th>campaign</th>\n",
                            "      <th>pdays</th>\n",
                            "      <th>previous</th>\n",
                            "      <th>poutcome</th>\n",
                            "      <th>emp.var.rate</th>\n",
                            "      <th>cons.price.idx</th>\n",
                            "      <th>cons.conf.idx</th>\n",
                            "      <th>euribor3m</th>\n",
                            "      <th>nr.employed</th>\n",
                            "      <th>y</th>\n",
                            "    </tr>\n",
                            "  </thead>\n",
                            "  <tbody>\n",
                            "  </tbody>\n",
                            "</table>\n",
                            "<p>0 rows × 21 columns</p>\n",
                            "</div>"
                        ],
                        "text/plain": [
                            "Empty DataFrame\n",
                            "Columns: [age, job, marital, education, default, housing, loan, contact, month, day_of_week, duration, campaign, pdays, previous, poutcome, emp.var.rate, cons.price.idx, cons.conf.idx, euribor3m, nr.employed, y]\n",
                            "Index: []\n",
                            "\n",
                            "[0 rows x 21 columns]"
                        ]
                    },
                    "execution_count": 79,
                    "metadata": {},
                    "output_type": "execute_result"
                }
            ],
            "source": [
                "ds[ds[\"campaign\"]==0]"
            ]
        },
        {
            "cell_type": "markdown",
            "metadata": {},
            "source": [
                "    Todos los clientes han sido contactados almenos una vez durante la campaña actual"
            ]
        },
        {
            "cell_type": "code",
            "execution_count": null,
            "metadata": {},
            "outputs": [
                {
                    "data": {
                        "text/plain": [
                            "age  job          marital   education            default  housing  loan     contact    month  day_of_week  duration  campaign  pdays  previous  poutcome     emp.var.rate  cons.price.idx  cons.conf.idx  euribor3m  nr.employed  y  \n",
                            "47   technician   divorced  high.school          no       yes      no       cellular   jul    thu          43        3         999    0         nonexistent   1.4          93.918          -42.7          4.962      5228.1       no     2\n",
                            "35   admin.       married   university.degree    no       yes      no       cellular   may    fri          348       4         999    0         nonexistent  -1.8          92.893          -46.2          1.313      5099.1       no     2\n",
                            "44   blue-collar  married   basic.4y             unknown  no       no       cellular   aug    mon          363       5         999    0         nonexistent   1.4          93.444          -36.1          4.965      5228.1       yes    1\n",
                            "                                                                                       jul    mon          358       6         999    0         nonexistent   1.4          93.918          -42.7          4.962      5228.1       no     1\n",
                            "                                                                                              wed          71        3         999    0         nonexistent   1.4          93.918          -42.7          4.963      5228.1       no     1\n",
                            "                                                                                                                                                                                                                                        ..\n",
                            "34   management   married   university.degree    no       unknown  unknown  cellular   mar    tue          57        4         999    0         nonexistent  -1.8          93.369          -34.8          0.635      5008.7       no     1\n",
                            "                                                          yes      no       cellular   aug    thu          294       6         999    0         nonexistent   1.4          93.444          -36.1          4.964      5228.1       no     1\n",
                            "                                                                                       mar    tue          225       5         999    0         nonexistent  -1.8          92.843          -50.0          1.799      5099.1       no     1\n",
                            "                                                                                       may    wed          77        4         999    0         nonexistent  -1.8          92.893          -46.2          1.281      5099.1       no     1\n",
                            "                            professional.course  unknown  no       no       telephone  may    thu          484       5         999    0         nonexistent   1.1          93.994          -36.4          4.860      5191.0       no     1\n",
                            "Name: count, Length: 12974, dtype: int64"
                        ]
                    },
                    "execution_count": 88,
                    "metadata": {},
                    "output_type": "execute_result"
                }
            ],
            "source": [
                "ds[ds[\"campaign\"]>2].value_counts()"
            ]
        },
        {
            "cell_type": "markdown",
            "metadata": {},
            "source": [
                "    Se ha contactado solamente a una cuarta parte de los clientes aproximadamente más de una vez"
            ]
        },
        {
            "cell_type": "markdown",
            "metadata": {},
            "source": [
                "**VARIABLES CATEGÓRICAS**"
            ]
        },
        {
            "cell_type": "markdown",
            "metadata": {},
            "source": []
        },
        {
            "cell_type": "markdown",
            "metadata": {},
            "source": [
                "* Revisar cantidad e categorías en variables categóricas:"
            ]
        },
        {
            "cell_type": "code",
            "execution_count": null,
            "metadata": {},
            "outputs": [],
            "source": [
                "ds = ds[ds[\"marital\"] != \"unknown\"]"
            ]
        },
        {
            "cell_type": "markdown",
            "metadata": {},
            "source": [
                "* Analisis Var poutcome"
            ]
        },
        {
            "cell_type": "code",
            "execution_count": null,
            "metadata": {},
            "outputs": [
                {
                    "data": {
                        "text/plain": [
                            "age  job           marital   education            default  housing  loan  contact    month  day_of_week  duration  campaign  pdays  previous  poutcome     emp.var.rate  cons.price.idx  cons.conf.idx  euribor3m  nr.employed  y  \n",
                            "47   technician    divorced  high.school          no       yes      no    cellular   jul    thu          43        3         999    0         nonexistent   1.4          93.918          -42.7          4.962      5228.1       no     2\n",
                            "32   technician    single    professional.course  no       yes      no    cellular   jul    thu          128       1         999    0         nonexistent   1.4          93.918          -42.7          4.968      5228.1       no     2\n",
                            "24   services      single    high.school          no       yes      no    cellular   apr    tue          114       1         999    0         nonexistent  -1.8          93.075          -47.1          1.423      5099.1       no     2\n",
                            "55   services      married   high.school          unknown  no       no    cellular   aug    mon          33        1         999    0         nonexistent   1.4          93.444          -36.1          4.965      5228.1       no     2\n",
                            "35   admin.        married   university.degree    no       yes      no    cellular   may    fri          348       4         999    0         nonexistent  -1.8          92.893          -46.2          1.313      5099.1       no     2\n",
                            "                                                                                                                                                                                                                                      ..\n",
                            "34   entrepreneur  married   unknown              no       yes      no    cellular   aug    wed          98        1         999    0         nonexistent   1.4          93.444          -36.1          4.965      5228.1       no     1\n",
                            "                                                                    yes   cellular   aug    wed          684       1         999    0         nonexistent   1.4          93.444          -36.1          4.965      5228.1       no     1\n",
                            "                   single    basic.9y             no       no       no    cellular   nov    tue          386       1         999    0         nonexistent  -0.1          93.200          -42.0          4.153      5195.8       no     1\n",
                            "                                                                    yes   cellular   nov    wed          139       3         999    0         nonexistent  -0.1          93.200          -42.0          4.120      5195.8       no     1\n",
                            "                   married   university.degree    no       yes      yes   telephone  apr    fri          130       1         999    0         nonexistent  -1.8          93.075          -47.1          1.405      5099.1       yes    1\n",
                            "Name: count, Length: 35551, dtype: int64"
                        ]
                    },
                    "execution_count": 90,
                    "metadata": {},
                    "output_type": "execute_result"
                }
            ],
            "source": [
                "ds[ds[\"poutcome\"]== \"nonexistent\"].value_counts()"
            ]
        },
        {
            "cell_type": "markdown",
            "metadata": {},
            "source": [
                "* Analisis Var housing"
            ]
        },
        {
            "cell_type": "markdown",
            "metadata": {},
            "source": [
                "* Analisis Var loan"
            ]
        },
        {
            "cell_type": "markdown",
            "metadata": {},
            "source": [
                "**LIMPIEZA DE DATOS IRRELEVANTES**"
            ]
        },
        {
            "cell_type": "markdown",
            "metadata": {},
            "source": [
                "ELEGIR \n",
                "VARIABLES ELIMINADAS: \n",
                "VARIABLES ESCOGIDASD PARA EL ANÁLISIS:"
            ]
        },
        {
            "cell_type": "markdown",
            "metadata": {},
            "source": [
                "    Conclusión:"
            ]
        },
        {
            "cell_type": "markdown",
            "metadata": {},
            "source": [
                "### **PASO 3: ANÁLISIS DE VARIABLES UNIVARIANTE**"
            ]
        },
        {
            "cell_type": "markdown",
            "metadata": {},
            "source": [
                "##### **ANÁLISIS DE VARIABLES UNIVARIANTE**"
            ]
        },
        {
            "cell_type": "markdown",
            "metadata": {},
            "source": [
                "**HISTOGRAMAS Y BOXPLOTS DE VARIABLES CATEGÓRICAS**\n",
                "\n",
                "VARIABLES CATEGÓRICAS: \"job\", \"marital\", \"education\", \"default\", \"housing\", \"loan\", \"contact\", \"poutcome\""
            ]
        },
        {
            "cell_type": "code",
            "execution_count": null,
            "metadata": {},
            "outputs": [
                {
                    "name": "stdout",
                    "output_type": "stream",
                    "text": [
                        "y           no  yes\n",
                        "marital            \n",
                        "divorced   478  153\n",
                        "married   2300  807\n",
                        "single    1334  535\n"
                    ]
                },
                {
                    "data": {
                        "image/png": "[encoded data removed]",
                        "text/plain": [
                            "<Figure size 800x600 with 1 Axes>"
                        ]
                    },
                    "metadata": {},
                    "output_type": "display_data"
                }
            ],
            "source": [
                "marital_deposit = ds.groupby(['marital', 'y']).size().unstack()\n",
                "print(marital_deposit)\n",
                "\n",
                "plt.figure(figsize=(8, 6))\n",
                "sns.countplot(x='marital', hue='y', data=ds)\n",
                "plt.title('Relación entre Estado Civil y Contratación de Depósito')\n",
                "plt.xlabel('Estado Civil')\n",
                "plt.ylabel('Número de Clientes')\n",
                "plt.show()"
            ]
        },
        {
            "cell_type": "markdown",
            "metadata": {},
            "source": [
                "* Conteo de freceuncia en variables categóricas: ¿?¿?¿?¿?¿?¿?¿?¿?¿?¿?"
            ]
        },
        {
            "cell_type": "code",
            "execution_count": null,
            "metadata": {},
            "outputs": [],
            "source": [
                "fig, axis = plt.subplots(1,2, figsize = (15, 10))\n",
                "\n",
                "plot1=sns.histplot(ax = axis[0], data = total_data, x = \"neighbourhood_group\").set(xlabel = \" By Neighbourhood Group\")\n",
                "\n",
                "plot3=sns.histplot(ax = axis[1], data = total_data, x = \"room_type\").set(xlabel = \"By Room type\")\n",
                "\n",
                "plt.tight_layout()\n",
                "plt.grid(True, linestyle = '--')\n",
                "plt.show()"
            ]
        },
        {
            "cell_type": "markdown",
            "metadata": {},
            "source": [
                "    Conclusión:"
            ]
        },
        {
            "cell_type": "markdown",
            "metadata": {},
            "source": [
                "- **HISTOGRAMAS Y BOXPLOTS DE VARIABLES NUMÉRICAS**\n",
                "\n",
                " VARIABLES NUMÉRICAS:\n",
                "\"age\", \"campaign\", \"pdays\", \"previous\""
            ]
        },
        {
            "cell_type": "markdown",
            "metadata": {},
            "source": [
                "* Histogramas y Boxplots"
            ]
        },
        {
            "cell_type": "code",
            "execution_count": null,
            "metadata": {},
            "outputs": [],
            "source": [
                "fig, axis = plt.subplots(3, 2, figsize = (13, 10))\n",
                "\n",
                "sns.histplot(ax = axis[0, 0], data = total_data, x = \"Survived\").set_xlim(-0.1, 1.1)\n",
                "sns.histplot(ax = axis[0, 1], data = total_data, x = \"Sex\").set(ylabel = None)\n",
                "sns.histplot(ax = axis[0, 2], data = total_data, x = \"Pclass\").set(ylabel = None)\n",
                "sns.histplot(ax = axis[1, 0], data = total_data, x = \"Embarked\")\n",
                "sns.histplot(ax = axis[1, 1], data = total_data, x = \"SibSp\").set(ylabel = None)\n",
                "sns.histplot(ax = axis[1, 2], data = total_data, x = \"Parch\").set(ylabel = None)\n",
                "\n",
                "\n",
                "sns.boxplot(ax = axis[0, 1], data = total_data, x = \"price\").set(xlabel = \"Variable Predictoria - Price\")\n",
                "\n",
                "sns.boxplot(ax = axis[1, 0], data = total_data, x = \"minimum_nights\").set(xlabel = \"Minimum_nights\")\n",
                "\n",
                "sns.boxplot(ax = axis[1, 1], data = total_data, x = \"latitude\").set(xlabel = \"Latitude\")\n",
                "\n",
                "sns.boxplot(ax = axis[2, 0], data = total_data, x = \"longitude\").set(xlabel = \"Longitude\")\n",
                "\n",
                "sns.boxplot(ax = axis[2, 1], data = total_data, x = \"availability_365\").set(xlabel = \"Availability_365\")\n",
                "\n",
                "plt.tight_layout()\n",
                "\n",
                "plt.show()"
            ]
        },
        {
            "cell_type": "markdown",
            "metadata": {},
            "source": [
                "    Conclusión:"
            ]
        },
        {
            "cell_type": "markdown",
            "metadata": {},
            "source": [
                "- **VISUAL AMPLIADO DE HISTOGRAMAS Y FBDBGSRNGFBFGS_GRÁFICOS DE CAJAS_KJVBLKFSDVJBFABJVFN**"
            ]
        },
        {
            "cell_type": "code",
            "execution_count": null,
            "metadata": {},
            "outputs": [],
            "source": [
                "fig, axis = plt.subplots(2, 1, figsize = (10, 7))\n",
                "\n",
                "sns.histplot(ax = axis[0], data = total_data[total_data[\"minimum_nights\"]<200], x = \"minimum_nights\").set(xlabel = \"Minimum_nights\")\n",
                "sns.boxplot(ax = axis[1], data = total_data[total_data[\"minimum_nights\"]<200], x = \"minimum_nights\")"
            ]
        },
        {
            "cell_type": "markdown",
            "metadata": {},
            "source": [
                "    Conclusión:"
            ]
        },
        {
            "cell_type": "markdown",
            "metadata": {},
            "source": [
                "- **LIMPIEZA DE DATOS?¿AÑADIR?¿**"
            ]
        },
        {
            "cell_type": "code",
            "execution_count": null,
            "metadata": {},
            "outputs": [],
            "source": [
                "total_data.loc[(total_data[\"availability_365\"]==0) | (total_data[\"availability_365\"]>365)]"
            ]
        },
        {
            "cell_type": "code",
            "execution_count": null,
            "metadata": {},
            "outputs": [],
            "source": [
                "total_data = total_data[total_data[\"availability_365\"] != 0]\n",
                "\n",
                "#EN EL CASO DE QUE AÑADAS MÁS ANÁLISIS Y LIMPIEZA DE DATOS REPRESENTA LOS PLOTS TAMBIÉN"
            ]
        },
        {
            "cell_type": "markdown",
            "metadata": {},
            "source": [
                "### **PASO 4: ANÁLISIS DE VARIABLES MULTIVARIANTE**"
            ]
        },
        {
            "cell_type": "markdown",
            "metadata": {},
            "source": [
                "**VARIABLES CATEGÓRICAS**\n",
                " \"job\", \"marital\", \"education\", \"default\", \"housing\", \"loan\", \"contact\", \"month\", \"day_of_week\", \"poutcome\"\n",
                " \n",
                "\n",
                " **VARIABLES NUMÉRICAS**\n",
                "\"age\", \"campaign\", \"pdays\", \"previous\", \"emp.var.rate\", \"cons.price.indx\", \"\"cons.conf.indx\", \"euribor3m\", \"nr.employed\""
            ]
        },
        {
            "cell_type": "markdown",
            "metadata": {},
            "source": [
                "##### **ANÁLISIS DE VARIABLES MULTIVARIANTE**"
            ]
        },
        {
            "cell_type": "code",
            "execution_count": null,
            "metadata": {},
            "outputs": [],
            "source": [
                "ds[\"y_numeric\"] = ds[\"y\"].map({\"yes\": 1, \"no\": 0})"
            ]
        },
        {
            "cell_type": "markdown",
            "metadata": {},
            "source": [
                "- **ANÁLISIS NUMÉRICO-NUMÉRICO**"
            ]
        },
        {
            "cell_type": "code",
            "execution_count": null,
            "metadata": {},
            "outputs": [
                {
                    "data": {
                        "image/png": "[encoded data removed]",
                        "text/plain": [
                            "<Figure size 1200x1200 with 11 Axes>"
                        ]
                    },
                    "metadata": {},
                    "output_type": "display_data"
                }
            ],
            "source": [
                "fig, axis = plt.subplots(4, 2, figsize = (12, 12))\n",
                "\n",
                "\n",
                "sns.regplot(ax = axis[0, 0], data = ds, x = \"age\", y = \"y_numeric\")\n",
                "sns.heatmap(ds[[\"y_numeric\", \"age\"]].corr(), annot = True, fmt = \".2f\", ax = axis[1, 0], cbar = False)\n",
                "\n",
                "sns.regplot(ax = axis[0, 1], data = ds, x = \"campaign\", y = \"y_numeric\").set(ylabel=None)\n",
                "sns.heatmap(ds[[\"y_numeric\", \"campaign\"]].corr(), annot = True, fmt = \".2f\", ax = axis[1, 1])\n",
                "\n",
                "sns.regplot(ax = axis[2, 0], data = ds, x = \"pdays\", y = \"y_numeric\").set(ylabel=None)\n",
                "sns.heatmap(ds[[\"y_numeric\", \"pdays\"]].corr(), annot = True, fmt = \".2f\", ax = axis[3, 0])\n",
                "\n",
                "sns.regplot(ax = axis[2, 1], data = ds, x = \"previous\", y = \"y_numeric\").set(ylabel=None)\n",
                "sns.heatmap(ds[[\"y_numeric\", \"previous\"]].corr(), annot = True, fmt = \".2f\", ax = axis[3, 1])\n",
                "\n",
                "\n",
                "plt.tight_layout()\n",
                "\n",
                "plt.show()"
            ]
        },
        {
            "cell_type": "markdown",
            "metadata": {},
            "source": [
                "- **COORRELACIONES ENTRE VARIABLES NUMÉRICAS ECONÓMICAS Y LA VARIABLE PREDICTORA**\n",
                "\n",
                "VARIABLES NUMÉRICAS ECONÓMICAS: \"emp.var.rate\",\"cons.price.indx\", cons.conf.indx\", \"euribor3m\", \"nr.employed\""
            ]
        },
        {
            "cell_type": "code",
            "execution_count": null,
            "metadata": {},
            "outputs": [
                {
                    "data": {
                        "image/png": "[encoded data removed]",
                        "text/plain": [
                            "<Figure size 1200x1200 with 12 Axes>"
                        ]
                    },
                    "metadata": {},
                    "output_type": "display_data"
                }
            ],
            "source": [
                "fig, axis = plt.subplots(4, 2, figsize = (12, 12))\n",
                "\n",
                "\n",
                "sns.regplot(ax = axis[0, 0], data = ds, x = \"emp.var.rate\", y = \"y_numeric\")\n",
                "sns.heatmap(ds[[\"y_numeric\", \"emp.var.rate\"]].corr(), annot = True, fmt = \".2f\", ax = axis[1, 0], cbar = False)\n",
                "\n",
                "sns.regplot(ax = axis[0, 1], data = ds, x = \"cons.price.idx\", y = \"y_numeric\").set(ylabel=None)\n",
                "sns.heatmap(ds[[\"y_numeric\", \"cons.price.idx\"]].corr(), annot = True, fmt = \".2f\", ax = axis[1, 1])\n",
                "\n",
                "sns.regplot(ax = axis[2, 0], data = ds, x = \"cons.conf.idx\", y = \"y_numeric\").set(ylabel=None)\n",
                "sns.heatmap(ds[[\"y_numeric\", \"cons.conf.idx\"]].corr(), annot = True, fmt = \".2f\", ax = axis[3, 0])\n",
                "\n",
                "sns.regplot(ax = axis[2, 1], data = ds, x = \"euribor3m\", y = \"y_numeric\").set(ylabel=None)\n",
                "sns.heatmap(ds[[\"y_numeric\", \"euribor3m\"]].corr(), annot = True, fmt = \".2f\", ax = axis[3, 1])\n",
                "\n",
                "sns.regplot(ax = axis[3, 0], data = ds, x = \"nr.employed\", y = \"y_numeric\").set(ylabel=None)\n",
                "sns.heatmap(ds[[\"y_numeric\", \"nr.employed\"]].corr(), annot = True, fmt = \".2f\", ax = axis[3, 1])\n",
                "\n",
                "\n",
                "\n",
                "plt.tight_layout()\n",
                "\n",
                "plt.show()\n"
            ]
        },
        {
            "cell_type": "code",
            "execution_count": null,
            "metadata": {},
            "outputs": [
                {
                    "name": "stdout",
                    "output_type": "stream",
                    "text": [
                        "y_numeric         1.000000\n",
                        "cons.conf.idx     0.054878\n",
                        "cons.price.idx   -0.136211\n",
                        "emp.var.rate     -0.298334\n",
                        "euribor3m        -0.307771\n",
                        "nr.employed      -0.354678\n",
                        "Name: y_numeric, dtype: float64\n"
                    ]
                }
            ],
            "source": [
                "ds[\"y_numeric\"] = ds[\"y\"].map({\"yes\": 1, \"no\": 0})  # Convertir a numérico\n",
                "\n",
                "correlation_with_y = ds[[\"y_numeric\", \"nr.employed\", \"cons.conf.idx\", \"euribor3m\", \"cons.price.idx\", \"emp.var.rate\"]].corr()\n",
                "\n",
                "print(correlation_with_y[\"y_numeric\"].sort_values(ascending=False))"
            ]
        },
        {
            "cell_type": "markdown",
            "metadata": {},
            "source": [
                "    Conclusión:\n",
                "    En el caso del grupo de variables numéricas económicas apreciamos que ninguna está directamente relacionada con la varibale predictoria en este punto del análisis. A continuación analizo la correlación entre ellas."
            ]
        },
        {
            "cell_type": "markdown",
            "metadata": {},
            "source": [
                "- **COORRELACIONES ENTRE PROPIAS VARIABLES NUMÉRICAS ECONÓMICAS**"
            ]
        },
        {
            "cell_type": "code",
            "execution_count": null,
            "metadata": {},
            "outputs": [
                {
                    "data": {
                        "image/png": "[encoded data removed]",
                        "text/plain": [
                            "<Figure size 640x480 with 2 Axes>"
                        ]
                    },
                    "metadata": {},
                    "output_type": "display_data"
                }
            ],
            "source": [
                "correlation_matrix = ds[[\"euribor3m\",\"nr.employed\", \"cons.conf.idx\", \"cons.price.idx\", \"emp.var.rate\"]].corr()\n",
                "sns.heatmap(correlation_matrix, annot=True, cmap=\"coolwarm\", fmt=\".2f\")\n",
                "plt.show()"
            ]
        },
        {
            "cell_type": "markdown",
            "metadata": {},
            "source": [
                "    Conclusión:\n",
                "    Creo que igualmente es interesante para el modelo incluir una variable de tipo económico debido a la naturaleza del análisis- La variable \"euribor3m\" es de todas formas importante para este ya que es una característica bastante relacionada con la economia e indica la rentabilidad del deósito. Decido mantenerla y eliminar el resto.\n",
                "    "
            ]
        },
        {
            "cell_type": "code",
            "execution_count": null,
            "metadata": {},
            "outputs": [],
            "source": [
                "ds.drop(columns = [\"nr.employed\", \"cons.conf.idx\", \"cons.price.idx\", \"emp.var.rate\"], inplace = True)"
            ]
        },
        {
            "cell_type": "markdown",
            "metadata": {},
            "source": [
                "- **ANÁLISIS CATEGÓRICO - CATEGÓRICO**"
            ]
        },
        {
            "cell_type": "markdown",
            "metadata": {},
            "source": [
                "- **Analisis de coorrelacion: NUMÉRICO - CATEGÓRICO**"
            ]
        },
        {
            "cell_type": "markdown",
            "metadata": {},
            "source": [
                "TEORIA\n",
                "\n",
                "IMPLICA:\n",
                "\n",
                "- FACTORIZACIÓN DE VARIABLES CATEGORICAS ; ¿Porque? ¿Qué es la factorización? ¿Cómos e hace el cálculo? ¿Cuándo se usa?"
            ]
        },
        {
            "cell_type": "code",
            "execution_count": null,
            "metadata": {},
            "outputs": [],
            "source": [
                "\n",
                "ds[\"job\"] = pd.factorize(ds[\"job\"])[0]\n",
                "ds[\"marital\"] = pd.factorize(ds[\"marital\"])[0]\n",
                "ds[\"education\"] = pd.factorize(ds[\"education\"])[0]\n",
                "ds[\"housing\"] = pd.factorize(ds[\"housing\"])[0]\n",
                "ds[\"loan\"] = pd.factorize(ds[\"loan\"])[0]\n",
                "ds[\"contact\"] = pd.factorize(ds[\"contact\"])[0]\n",
                "ds[\"poutcome\"] = pd.factorize(ds[\"poutcome\"])[0]\n",
                "ds[\"y\"] = pd.factorize(ds[\"y\"])[0]"
            ]
        },
        {
            "cell_type": "markdown",
            "metadata": {},
            "source": [
                "    Conclusión:"
            ]
        },
        {
            "cell_type": "markdown",
            "metadata": {},
            "source": [
                "### **PASO 5: INGENIERÍA DE CARACTERÍSTICAS**"
            ]
        },
        {
            "cell_type": "markdown",
            "metadata": {},
            "source": [
                "##### **ANÁLISIS DE OUTLIERS**"
            ]
        },
        {
            "cell_type": "markdown",
            "metadata": {},
            "source": [
                "- **TABLA DEL ANÁLISIS DESCRIPTIVO**"
            ]
        },
        {
            "cell_type": "code",
            "execution_count": null,
            "metadata": {},
            "outputs": [
                {
                    "ename": "NameError",
                    "evalue": "name 'ds' is not defined",
                    "output_type": "error",
                    "traceback": [
                        "\u001b[0;31m---------------------------------------------------------------------------\u001b[0m",
                        "\u001b[0;31mNameError\u001b[0m                                 Traceback (most recent call last)",
                        "Cell \u001b[0;32mIn[1], line 1\u001b[0m\n\u001b[0;32m----> 1\u001b[0m \u001b[43mds\u001b[49m\u001b[38;5;241m.\u001b[39mdescribe()\n",
                        "\u001b[0;31mNameError\u001b[0m: name 'ds' is not defined"
                    ]
                }
            ],
            "source": [
                "ds.describe()"
            ]
        },
        {
            "cell_type": "markdown",
            "metadata": {},
            "source": [
                "    Conclusión:"
            ]
        },
        {
            "cell_type": "markdown",
            "metadata": {},
            "source": [
                "- **GRÁFICOS DE VARIABLES NUMÉRICAS**"
            ]
        },
        {
            "cell_type": "markdown",
            "metadata": {},
            "source": [
                "    Conclusión:"
            ]
        },
        {
            "cell_type": "markdown",
            "metadata": {},
            "source": [
                "- **GRÁFICOS DE VARIABLES CATEGÓRICAS**"
            ]
        },
        {
            "cell_type": "code",
            "execution_count": null,
            "metadata": {},
            "outputs": [],
            "source": [
                "plt.figure(figsize=(10,7))\n",
                "\n",
                "sns.boxplot(x=total_data['room_type'], y=total_data['price'])\n",
                "plt.title(\"Comportamiento de outliers respecto al precio\")"
            ]
        },
        {
            "cell_type": "markdown",
            "metadata": {},
            "source": [
                "    Conclusión:"
            ]
        },
        {
            "cell_type": "markdown",
            "metadata": {},
            "source": [
                "##### **LIMPIEZA DE OUTLIERS**"
            ]
        },
        {
            "cell_type": "code",
            "execution_count": null,
            "metadata": {},
            "outputs": [],
            "source": [
                "ds[ds[\"price\"] > 1000]"
            ]
        },
        {
            "cell_type": "code",
            "execution_count": null,
            "metadata": {},
            "outputs": [],
            "source": [
                "ds[ds[\"minimum_nights\"] >5].shape"
            ]
        },
        {
            "cell_type": "code",
            "execution_count": null,
            "metadata": {},
            "outputs": [],
            "source": [
                "availability_365_stats = total_data[\"availability_365\"].describe()\n",
                "\n",
                "are_iqr = availability_365_stats[\"75%\"] - availability_365_stats[\"25%\"]\n",
                "upper_limit = availability_365_stats[\"75%\"] + 1.5 * are_iqr\n",
                "lower_limit = availability_365_stats[\"25%\"] - 1.5 * are_iqr\n",
                "print(f\"Los límites superior e inferior para la búsqueda de outliers son {round(upper_limit, 2)} y {round(lower_limit, 2)}, con un rango intercuartílico de {round(are_iqr, 2)}\")\n",
                "\n",
                "total_data[total_data[\"availability_365\"] < 180]"
            ]
        },
        {
            "cell_type": "markdown",
            "metadata": {},
            "source": [
                "    Conclusión:"
            ]
        },
        {
            "cell_type": "markdown",
            "metadata": {},
            "source": [
                "##### **ESCALADO DE VALORES**"
            ]
        },
        {
            "cell_type": "code",
            "execution_count": null,
            "metadata": {},
            "outputs": [],
            "source": [
                "''''num_variables = [\"room_type_n\", \"minimum_nights\",\"availability_365\",\"neighbourhood_group_n\"]\n",
                "\n",
                "X = total_data.drop(\"price\", axis = 1)[num_variables]\n",
                "y = total_data[\"price\"]\n",
                "\n",
                "X_train, X_test, y_train, y_test = train_test_split(X, y, test_size = 0.2, random_state = 42)\n",
                "\n",
                "X_train.head()''''"
            ]
        },
        {
            "cell_type": "markdown",
            "metadata": {},
            "source": [
                "    Conclusión:"
            ]
        },
        {
            "cell_type": "markdown",
            "metadata": {},
            "source": [
                "##### **NORMALIZACIÓN**"
            ]
        },
        {
            "cell_type": "code",
            "execution_count": null,
            "metadata": {},
            "outputs": [],
            "source": [
                "scaler = StandardScaler()\n",
                "scaler.fit(X_train)\n",
                "\n",
                "\n",
                "X_train_norm = scaler.transform(X_train)\n",
                "X_train_norm = pd.DataFrame(X_train_norm, index = X_train.index, columns = num_variables)\n",
                "\n",
                "X_test_norm = scaler.transform(X_test)\n",
                "X_test_norm = pd.DataFrame(X_test_norm, index = X_test.index, columns = num_variables)\n",
                "\n",
                "X_train_norm.head()"
            ]
        },
        {
            "cell_type": "markdown",
            "metadata": {},
            "source": [
                "    Conclusión:"
            ]
        },
        {
            "cell_type": "code",
            "execution_count": null,
            "metadata": {},
            "outputs": [
                {
                    "data": {
                        "text/html": [
                            "<div>\n",
                            "<style scoped>\n",
                            "    .dataframe tbody tr th:only-of-type {\n",
                            "        vertical-align: middle;\n",
                            "    }\n",
                            "\n",
                            "    .dataframe tbody tr th {\n",
                            "        vertical-align: top;\n",
                            "    }\n",
                            "\n",
                            "    .dataframe thead th {\n",
                            "        text-align: right;\n",
                            "    }\n",
                            "</style>\n",
                            "<table border=\"1\" class=\"dataframe\">\n",
                            "  <thead>\n",
                            "    <tr style=\"text-align: right;\">\n",
                            "      <th></th>\n",
                            "      <th>age</th>\n",
                            "      <th>job</th>\n",
                            "      <th>marital</th>\n",
                            "      <th>education</th>\n",
                            "      <th>default</th>\n",
                            "      <th>housing</th>\n",
                            "      <th>loan</th>\n",
                            "      <th>contact</th>\n",
                            "      <th>month</th>\n",
                            "      <th>day_of_week</th>\n",
                            "      <th>duration</th>\n",
                            "      <th>campaign</th>\n",
                            "      <th>pdays</th>\n",
                            "      <th>previous</th>\n",
                            "      <th>poutcome</th>\n",
                            "      <th>emp.var.rate</th>\n",
                            "      <th>cons.price.idx</th>\n",
                            "      <th>cons.conf.idx</th>\n",
                            "      <th>euribor3m</th>\n",
                            "      <th>nr.employed</th>\n",
                            "    </tr>\n",
                            "  </thead>\n",
                            "  <tbody>\n",
                            "    <tr>\n",
                            "      <th>12556</th>\n",
                            "      <td>40</td>\n",
                            "      <td>3</td>\n",
                            "      <td>0</td>\n",
                            "      <td>3</td>\n",
                            "      <td>1</td>\n",
                            "      <td>1</td>\n",
                            "      <td>0</td>\n",
                            "      <td>0</td>\n",
                            "      <td>2</td>\n",
                            "      <td>0</td>\n",
                            "      <td>94</td>\n",
                            "      <td>2</td>\n",
                            "      <td>999</td>\n",
                            "      <td>0</td>\n",
                            "      <td>0</td>\n",
                            "      <td>1.4</td>\n",
                            "      <td>93.918</td>\n",
                            "      <td>-42.7</td>\n",
                            "      <td>4.960</td>\n",
                            "      <td>5228.1</td>\n",
                            "    </tr>\n",
                            "    <tr>\n",
                            "      <th>35451</th>\n",
                            "      <td>31</td>\n",
                            "      <td>2</td>\n",
                            "      <td>0</td>\n",
                            "      <td>6</td>\n",
                            "      <td>0</td>\n",
                            "      <td>0</td>\n",
                            "      <td>0</td>\n",
                            "      <td>1</td>\n",
                            "      <td>0</td>\n",
                            "      <td>0</td>\n",
                            "      <td>116</td>\n",
                            "      <td>4</td>\n",
                            "      <td>999</td>\n",
                            "      <td>0</td>\n",
                            "      <td>0</td>\n",
                            "      <td>-1.8</td>\n",
                            "      <td>92.893</td>\n",
                            "      <td>-46.2</td>\n",
                            "      <td>1.244</td>\n",
                            "      <td>5099.1</td>\n",
                            "    </tr>\n",
                            "    <tr>\n",
                            "      <th>30592</th>\n",
                            "      <td>59</td>\n",
                            "      <td>5</td>\n",
                            "      <td>0</td>\n",
                            "      <td>0</td>\n",
                            "      <td>0</td>\n",
                            "      <td>0</td>\n",
                            "      <td>0</td>\n",
                            "      <td>1</td>\n",
                            "      <td>0</td>\n",
                            "      <td>0</td>\n",
                            "      <td>13</td>\n",
                            "      <td>6</td>\n",
                            "      <td>999</td>\n",
                            "      <td>1</td>\n",
                            "      <td>1</td>\n",
                            "      <td>-1.8</td>\n",
                            "      <td>92.893</td>\n",
                            "      <td>-46.2</td>\n",
                            "      <td>1.354</td>\n",
                            "      <td>5099.1</td>\n",
                            "    </tr>\n",
                            "    <tr>\n",
                            "      <th>17914</th>\n",
                            "      <td>43</td>\n",
                            "      <td>0</td>\n",
                            "      <td>2</td>\n",
                            "      <td>3</td>\n",
                            "      <td>0</td>\n",
                            "      <td>1</td>\n",
                            "      <td>0</td>\n",
                            "      <td>1</td>\n",
                            "      <td>2</td>\n",
                            "      <td>1</td>\n",
                            "      <td>94</td>\n",
                            "      <td>5</td>\n",
                            "      <td>999</td>\n",
                            "      <td>0</td>\n",
                            "      <td>0</td>\n",
                            "      <td>1.4</td>\n",
                            "      <td>93.918</td>\n",
                            "      <td>-42.7</td>\n",
                            "      <td>4.961</td>\n",
                            "      <td>5228.1</td>\n",
                            "    </tr>\n",
                            "    <tr>\n",
                            "      <th>3315</th>\n",
                            "      <td>39</td>\n",
                            "      <td>2</td>\n",
                            "      <td>1</td>\n",
                            "      <td>1</td>\n",
                            "      <td>1</td>\n",
                            "      <td>0</td>\n",
                            "      <td>0</td>\n",
                            "      <td>0</td>\n",
                            "      <td>0</td>\n",
                            "      <td>3</td>\n",
                            "      <td>344</td>\n",
                            "      <td>2</td>\n",
                            "      <td>999</td>\n",
                            "      <td>0</td>\n",
                            "      <td>0</td>\n",
                            "      <td>1.1</td>\n",
                            "      <td>93.994</td>\n",
                            "      <td>-36.4</td>\n",
                            "      <td>4.860</td>\n",
                            "      <td>5191.0</td>\n",
                            "    </tr>\n",
                            "  </tbody>\n",
                            "</table>\n",
                            "</div>"
                        ],
                        "text/plain": [
                            "       age  job  marital  education  default  housing  loan  contact  month  \\\n",
                            "12556   40    3        0          3        1        1     0        0      2   \n",
                            "35451   31    2        0          6        0        0     0        1      0   \n",
                            "30592   59    5        0          0        0        0     0        1      0   \n",
                            "17914   43    0        2          3        0        1     0        1      2   \n",
                            "3315    39    2        1          1        1        0     0        0      0   \n",
                            "\n",
                            "       day_of_week  duration  campaign  pdays  previous  poutcome  \\\n",
                            "12556            0        94         2    999         0         0   \n",
                            "35451            0       116         4    999         0         0   \n",
                            "30592            0        13         6    999         1         1   \n",
                            "17914            1        94         5    999         0         0   \n",
                            "3315             3       344         2    999         0         0   \n",
                            "\n",
                            "       emp.var.rate  cons.price.idx  cons.conf.idx  euribor3m  nr.employed  \n",
                            "12556           1.4          93.918          -42.7      4.960       5228.1  \n",
                            "35451          -1.8          92.893          -46.2      1.244       5099.1  \n",
                            "30592          -1.8          92.893          -46.2      1.354       5099.1  \n",
                            "17914           1.4          93.918          -42.7      4.961       5228.1  \n",
                            "3315            1.1          93.994          -36.4      4.860       5191.0  "
                        ]
                    },
                    "execution_count": 49,
                    "metadata": {},
                    "output_type": "execute_result"
                }
            ],
            "source": []
        },
        {
            "cell_type": "markdown",
            "metadata": {},
            "source": [
                "##### **ESCALADO MINIMO-MAXIMO**"
            ]
        },
        {
            "cell_type": "code",
            "execution_count": null,
            "metadata": {},
            "outputs": [
                {
                    "data": {
                        "text/html": [
                            "<div>\n",
                            "<style scoped>\n",
                            "    .dataframe tbody tr th:only-of-type {\n",
                            "        vertical-align: middle;\n",
                            "    }\n",
                            "\n",
                            "    .dataframe tbody tr th {\n",
                            "        vertical-align: top;\n",
                            "    }\n",
                            "\n",
                            "    .dataframe thead th {\n",
                            "        text-align: right;\n",
                            "    }\n",
                            "</style>\n",
                            "<table border=\"1\" class=\"dataframe\">\n",
                            "  <thead>\n",
                            "    <tr style=\"text-align: right;\">\n",
                            "      <th></th>\n",
                            "      <th>age</th>\n",
                            "      <th>job</th>\n",
                            "      <th>marital</th>\n",
                            "      <th>education</th>\n",
                            "      <th>default</th>\n",
                            "      <th>housing</th>\n",
                            "      <th>loan</th>\n",
                            "      <th>contact</th>\n",
                            "      <th>month</th>\n",
                            "      <th>day_of_week</th>\n",
                            "      <th>duration</th>\n",
                            "      <th>previous</th>\n",
                            "      <th>previous</th>\n",
                            "      <th>previous</th>\n",
                            "      <th>poutcome</th>\n",
                            "      <th>emp.var.rate</th>\n",
                            "      <th>cons.price.idx</th>\n",
                            "      <th>cons.conf.idx</th>\n",
                            "      <th>euribor3m</th>\n",
                            "      <th>nr.employed</th>\n",
                            "    </tr>\n",
                            "  </thead>\n",
                            "  <tbody>\n",
                            "    <tr>\n",
                            "      <th>12556</th>\n",
                            "      <td>0.283951</td>\n",
                            "      <td>0.272727</td>\n",
                            "      <td>0.000000</td>\n",
                            "      <td>0.428571</td>\n",
                            "      <td>0.5</td>\n",
                            "      <td>0.5</td>\n",
                            "      <td>0.0</td>\n",
                            "      <td>0.0</td>\n",
                            "      <td>0.222222</td>\n",
                            "      <td>0.00</td>\n",
                            "      <td>0.019113</td>\n",
                            "      <td>0.018182</td>\n",
                            "      <td>1.0</td>\n",
                            "      <td>0.000000</td>\n",
                            "      <td>0.0</td>\n",
                            "      <td>1.000000</td>\n",
                            "      <td>0.669135</td>\n",
                            "      <td>0.338912</td>\n",
                            "      <td>0.980730</td>\n",
                            "      <td>1.000000</td>\n",
                            "    </tr>\n",
                            "    <tr>\n",
                            "      <th>35451</th>\n",
                            "      <td>0.172840</td>\n",
                            "      <td>0.181818</td>\n",
                            "      <td>0.000000</td>\n",
                            "      <td>0.857143</td>\n",
                            "      <td>0.0</td>\n",
                            "      <td>0.0</td>\n",
                            "      <td>0.0</td>\n",
                            "      <td>1.0</td>\n",
                            "      <td>0.000000</td>\n",
                            "      <td>0.00</td>\n",
                            "      <td>0.023587</td>\n",
                            "      <td>0.054545</td>\n",
                            "      <td>1.0</td>\n",
                            "      <td>0.000000</td>\n",
                            "      <td>0.0</td>\n",
                            "      <td>0.333333</td>\n",
                            "      <td>0.269680</td>\n",
                            "      <td>0.192469</td>\n",
                            "      <td>0.138291</td>\n",
                            "      <td>0.512287</td>\n",
                            "    </tr>\n",
                            "    <tr>\n",
                            "      <th>30592</th>\n",
                            "      <td>0.518519</td>\n",
                            "      <td>0.454545</td>\n",
                            "      <td>0.000000</td>\n",
                            "      <td>0.000000</td>\n",
                            "      <td>0.0</td>\n",
                            "      <td>0.0</td>\n",
                            "      <td>0.0</td>\n",
                            "      <td>1.0</td>\n",
                            "      <td>0.000000</td>\n",
                            "      <td>0.00</td>\n",
                            "      <td>0.002643</td>\n",
                            "      <td>0.090909</td>\n",
                            "      <td>1.0</td>\n",
                            "      <td>0.142857</td>\n",
                            "      <td>0.5</td>\n",
                            "      <td>0.333333</td>\n",
                            "      <td>0.269680</td>\n",
                            "      <td>0.192469</td>\n",
                            "      <td>0.163228</td>\n",
                            "      <td>0.512287</td>\n",
                            "    </tr>\n",
                            "    <tr>\n",
                            "      <th>17914</th>\n",
                            "      <td>0.320988</td>\n",
                            "      <td>0.000000</td>\n",
                            "      <td>0.666667</td>\n",
                            "      <td>0.428571</td>\n",
                            "      <td>0.0</td>\n",
                            "      <td>0.5</td>\n",
                            "      <td>0.0</td>\n",
                            "      <td>1.0</td>\n",
                            "      <td>0.222222</td>\n",
                            "      <td>0.25</td>\n",
                            "      <td>0.019113</td>\n",
                            "      <td>0.072727</td>\n",
                            "      <td>1.0</td>\n",
                            "      <td>0.000000</td>\n",
                            "      <td>0.0</td>\n",
                            "      <td>1.000000</td>\n",
                            "      <td>0.669135</td>\n",
                            "      <td>0.338912</td>\n",
                            "      <td>0.980957</td>\n",
                            "      <td>1.000000</td>\n",
                            "    </tr>\n",
                            "    <tr>\n",
                            "      <th>3315</th>\n",
                            "      <td>0.271605</td>\n",
                            "      <td>0.181818</td>\n",
                            "      <td>0.333333</td>\n",
                            "      <td>0.142857</td>\n",
                            "      <td>0.5</td>\n",
                            "      <td>0.0</td>\n",
                            "      <td>0.0</td>\n",
                            "      <td>0.0</td>\n",
                            "      <td>0.000000</td>\n",
                            "      <td>0.75</td>\n",
                            "      <td>0.069947</td>\n",
                            "      <td>0.018182</td>\n",
                            "      <td>1.0</td>\n",
                            "      <td>0.000000</td>\n",
                            "      <td>0.0</td>\n",
                            "      <td>0.937500</td>\n",
                            "      <td>0.698753</td>\n",
                            "      <td>0.602510</td>\n",
                            "      <td>0.958059</td>\n",
                            "      <td>0.859735</td>\n",
                            "    </tr>\n",
                            "  </tbody>\n",
                            "</table>\n",
                            "</div>"
                        ],
                        "text/plain": [
                            "            age       job   marital  education  default  housing  loan  \\\n",
                            "12556  0.283951  0.272727  0.000000   0.428571      0.5      0.5   0.0   \n",
                            "35451  0.172840  0.181818  0.000000   0.857143      0.0      0.0   0.0   \n",
                            "30592  0.518519  0.454545  0.000000   0.000000      0.0      0.0   0.0   \n",
                            "17914  0.320988  0.000000  0.666667   0.428571      0.0      0.5   0.0   \n",
                            "3315   0.271605  0.181818  0.333333   0.142857      0.5      0.0   0.0   \n",
                            "\n",
                            "       contact     month  day_of_week  duration  previous  previous  previous  \\\n",
                            "12556      0.0  0.222222         0.00  0.019113  0.018182       1.0  0.000000   \n",
                            "35451      1.0  0.000000         0.00  0.023587  0.054545       1.0  0.000000   \n",
                            "30592      1.0  0.000000         0.00  0.002643  0.090909       1.0  0.142857   \n",
                            "17914      1.0  0.222222         0.25  0.019113  0.072727       1.0  0.000000   \n",
                            "3315       0.0  0.000000         0.75  0.069947  0.018182       1.0  0.000000   \n",
                            "\n",
                            "       poutcome  emp.var.rate  cons.price.idx  cons.conf.idx  euribor3m  \\\n",
                            "12556       0.0      1.000000        0.669135       0.338912   0.980730   \n",
                            "35451       0.0      0.333333        0.269680       0.192469   0.138291   \n",
                            "30592       0.5      0.333333        0.269680       0.192469   0.163228   \n",
                            "17914       0.0      1.000000        0.669135       0.338912   0.980957   \n",
                            "3315        0.0      0.937500        0.698753       0.602510   0.958059   \n",
                            "\n",
                            "       nr.employed  \n",
                            "12556     1.000000  \n",
                            "35451     0.512287  \n",
                            "30592     0.512287  \n",
                            "17914     1.000000  \n",
                            "3315      0.859735  "
                        ]
                    },
                    "execution_count": 50,
                    "metadata": {},
                    "output_type": "execute_result"
                }
            ],
            "source": [
                "scaler = MinMaxScaler()\n",
                "\n",
                "scaler.fit(X_train)\n",
                "\n",
                "\n",
                "X_train_scal = scaler.transform(X_train)\n",
                "X_train_scal = pd.DataFrame(X_train_scal, index = X_train.index, columns=num_variables)\n",
                "\n",
                "X_test_scal = scaler.transform(X_test)\n",
                "X_test_scal = pd.DataFrame(X_test_scal, index = X_test.index,  columns=num_variables)\n",
                "\n",
                "X_train_scal.head()"
            ]
        },
        {
            "cell_type": "markdown",
            "metadata": {},
            "source": [
                "SLIP TESTEO MODELO\n",
                "\n",
                "?¿ NO SE DONDE VA ESTA PARTE DEL CODIGO ?¿"
            ]
        },
        {
            "cell_type": "code",
            "execution_count": null,
            "metadata": {},
            "outputs": [],
            "source": [
                "num_variables=[\"age\",\"job\",\"marital\",\"education\",\"default\",\"housing\",\"loan\",\"contact\",\"month\",\"day_of_week\",\"duration\",\"previous\",\"previous\",\"previous\",\"poutcome\",\"emp.var.rate\",\"cons.price.idx\",\"cons.conf.idx\",\"euribor3m\",\"nr.employed\"]\n",
                "X = ds.drop(\"y\", axis = 1)\n",
                "y = ds[\"y\"]\n",
                "\n",
                "X_train, X_test, y_train, y_test = train_test_split(X, y, test_size = 0.2, random_state = 42)\n",
                "\n",
                "X_train.head()"
            ]
        },
        {
            "cell_type": "markdown",
            "metadata": {},
            "source": [
                "### **PASO 6: SELECCIÓN DE CARACTERISTICAS**"
            ]
        },
        {
            "cell_type": "code",
            "execution_count": null,
            "metadata": {},
            "outputs": [
                {
                    "data": {
                        "text/html": [
                            "<div>\n",
                            "<style scoped>\n",
                            "    .dataframe tbody tr th:only-of-type {\n",
                            "        vertical-align: middle;\n",
                            "    }\n",
                            "\n",
                            "    .dataframe tbody tr th {\n",
                            "        vertical-align: top;\n",
                            "    }\n",
                            "\n",
                            "    .dataframe thead th {\n",
                            "        text-align: right;\n",
                            "    }\n",
                            "</style>\n",
                            "<table border=\"1\" class=\"dataframe\">\n",
                            "  <thead>\n",
                            "    <tr style=\"text-align: right;\">\n",
                            "      <th></th>\n",
                            "      <th>duration</th>\n",
                            "      <th>previous</th>\n",
                            "      <th>euribor3m</th>\n",
                            "      <th>nr.employed</th>\n",
                            "    </tr>\n",
                            "  </thead>\n",
                            "  <tbody>\n",
                            "    <tr>\n",
                            "      <th>0</th>\n",
                            "      <td>0.075437</td>\n",
                            "      <td>1.0</td>\n",
                            "      <td>0.150759</td>\n",
                            "      <td>0.512287</td>\n",
                            "    </tr>\n",
                            "    <tr>\n",
                            "      <th>1</th>\n",
                            "      <td>0.057950</td>\n",
                            "      <td>1.0</td>\n",
                            "      <td>0.958059</td>\n",
                            "      <td>0.859735</td>\n",
                            "    </tr>\n",
                            "    <tr>\n",
                            "      <th>2</th>\n",
                            "      <td>0.010573</td>\n",
                            "      <td>1.0</td>\n",
                            "      <td>0.153933</td>\n",
                            "      <td>0.512287</td>\n",
                            "    </tr>\n",
                            "    <tr>\n",
                            "      <th>3</th>\n",
                            "      <td>0.072184</td>\n",
                            "      <td>1.0</td>\n",
                            "      <td>0.982317</td>\n",
                            "      <td>1.000000</td>\n",
                            "    </tr>\n",
                            "    <tr>\n",
                            "      <th>4</th>\n",
                            "      <td>0.038430</td>\n",
                            "      <td>1.0</td>\n",
                            "      <td>0.981410</td>\n",
                            "      <td>1.000000</td>\n",
                            "    </tr>\n",
                            "  </tbody>\n",
                            "</table>\n",
                            "</div>"
                        ],
                        "text/plain": [
                            "   duration  previous  euribor3m  nr.employed\n",
                            "0  0.075437       1.0   0.150759     0.512287\n",
                            "1  0.057950       1.0   0.958059     0.859735\n",
                            "2  0.010573       1.0   0.153933     0.512287\n",
                            "3  0.072184       1.0   0.982317     1.000000\n",
                            "4  0.038430       1.0   0.981410     1.000000"
                        ]
                    },
                    "execution_count": 51,
                    "metadata": {},
                    "output_type": "execute_result"
                }
            ],
            "source": [
                "selection_model = SelectKBest(f_classif, k = 4)\n",
                "selection_model.fit(X_train_scal, y_train)\n",
                "ix = selection_model.get_support()\n",
                "X_train_sel = pd.DataFrame(selection_model.transform(X_train_scal), columns = X_train_scal.columns.values[ix])\n",
                "X_test_sel = pd.DataFrame(selection_model.transform(X_test_scal), columns = X_test_scal.columns.values[ix])\n",
                "\n",
                "X_train_sel.head()\n",
                "X_test_sel.head() "
            ]
        },
        {
            "cell_type": "markdown",
            "metadata": {},
            "source": [
                "LINEAR REGRASSION"
            ]
        },
        {
            "cell_type": "code",
            "execution_count": null,
            "metadata": {},
            "outputs": [
                {
                    "data": {
                        "text/html": [
                            "<style>#sk-container-id-2 {\n",
                            "  /* Definition of color scheme common for light and dark mode */\n",
                            "  --sklearn-color-text: #000;\n",
                            "  --sklearn-color-text-muted: #666;\n",
                            "  --sklearn-color-line: gray;\n",
                            "  /* Definition of color scheme for unfitted estimators */\n",
                            "  --sklearn-color-unfitted-level-0: #fff5e6;\n",
                            "  --sklearn-color-unfitted-level-1: #f6e4d2;\n",
                            "  --sklearn-color-unfitted-level-2: #ffe0b3;\n",
                            "  --sklearn-color-unfitted-level-3: chocolate;\n",
                            "  /* Definition of color scheme for fitted estimators */\n",
                            "  --sklearn-color-fitted-level-0: #f0f8ff;\n",
                            "  --sklearn-color-fitted-level-1: #d4ebff;\n",
                            "  --sklearn-color-fitted-level-2: #b3dbfd;\n",
                            "  --sklearn-color-fitted-level-3: cornflowerblue;\n",
                            "\n",
                            "  /* Specific color for light theme */\n",
                            "  --sklearn-color-text-on-default-background: var(--sg-text-color, var(--theme-code-foreground, var(--jp-content-font-color1, black)));\n",
                            "  --sklearn-color-background: var(--sg-background-color, var(--theme-background, var(--jp-layout-color0, white)));\n",
                            "  --sklearn-color-border-box: var(--sg-text-color, var(--theme-code-foreground, var(--jp-content-font-color1, black)));\n",
                            "  --sklearn-color-icon: #696969;\n",
                            "\n",
                            "  @media (prefers-color-scheme: dark) {\n",
                            "    /* Redefinition of color scheme for dark theme */\n",
                            "    --sklearn-color-text-on-default-background: var(--sg-text-color, var(--theme-code-foreground, var(--jp-content-font-color1, white)));\n",
                            "    --sklearn-color-background: var(--sg-background-color, var(--theme-background, var(--jp-layout-color0, #111)));\n",
                            "    --sklearn-color-border-box: var(--sg-text-color, var(--theme-code-foreground, var(--jp-content-font-color1, white)));\n",
                            "    --sklearn-color-icon: #878787;\n",
                            "  }\n",
                            "}\n",
                            "\n",
                            "#sk-container-id-2 {\n",
                            "  color: var(--sklearn-color-text);\n",
                            "}\n",
                            "\n",
                            "#sk-container-id-2 pre {\n",
                            "  padding: 0;\n",
                            "}\n",
                            "\n",
                            "#sk-container-id-2 input.sk-hidden--visually {\n",
                            "  border: 0;\n",
                            "  clip: rect(1px 1px 1px 1px);\n",
                            "  clip: rect(1px, 1px, 1px, 1px);\n",
                            "  height: 1px;\n",
                            "  margin: -1px;\n",
                            "  overflow: hidden;\n",
                            "  padding: 0;\n",
                            "  position: absolute;\n",
                            "  width: 1px;\n",
                            "}\n",
                            "\n",
                            "#sk-container-id-2 div.sk-dashed-wrapped {\n",
                            "  border: 1px dashed var(--sklearn-color-line);\n",
                            "  margin: 0 0.4em 0.5em 0.4em;\n",
                            "  box-sizing: border-box;\n",
                            "  padding-bottom: 0.4em;\n",
                            "  background-color: var(--sklearn-color-background);\n",
                            "}\n",
                            "\n",
                            "#sk-container-id-2 div.sk-container {\n",
                            "  /* jupyter's `normalize.less` sets `[hidden] { display: none; }`\n",
                            "     but bootstrap.min.css set `[hidden] { display: none !important; }`\n",
                            "     so we also need the `!important` here to be able to override the\n",
                            "     default hidden behavior on the sphinx rendered scikit-learn.org.\n",
                            "     See: https://github.com/scikit-learn/scikit-learn/issues/21755 */\n",
                            "  display: inline-block !important;\n",
                            "  position: relative;\n",
                            "}\n",
                            "\n",
                            "#sk-container-id-2 div.sk-text-repr-fallback {\n",
                            "  display: none;\n",
                            "}\n",
                            "\n",
                            "div.sk-parallel-item,\n",
                            "div.sk-serial,\n",
                            "div.sk-item {\n",
                            "  /* draw centered vertical line to link estimators */\n",
                            "  background-image: linear-gradient(var(--sklearn-color-text-on-default-background), var(--sklearn-color-text-on-default-background));\n",
                            "  background-size: 2px 100%;\n",
                            "  background-repeat: no-repeat;\n",
                            "  background-position: center center;\n",
                            "}\n",
                            "\n",
                            "/* Parallel-specific style estimator block */\n",
                            "\n",
                            "#sk-container-id-2 div.sk-parallel-item::after {\n",
                            "  content: \"\";\n",
                            "  width: 100%;\n",
                            "  border-bottom: 2px solid var(--sklearn-color-text-on-default-background);\n",
                            "  flex-grow: 1;\n",
                            "}\n",
                            "\n",
                            "#sk-container-id-2 div.sk-parallel {\n",
                            "  display: flex;\n",
                            "  align-items: stretch;\n",
                            "  justify-content: center;\n",
                            "  background-color: var(--sklearn-color-background);\n",
                            "  position: relative;\n",
                            "}\n",
                            "\n",
                            "#sk-container-id-2 div.sk-parallel-item {\n",
                            "  display: flex;\n",
                            "  flex-direction: column;\n",
                            "}\n",
                            "\n",
                            "#sk-container-id-2 div.sk-parallel-item:first-child::after {\n",
                            "  align-self: flex-end;\n",
                            "  width: 50%;\n",
                            "}\n",
                            "\n",
                            "#sk-container-id-2 div.sk-parallel-item:last-child::after {\n",
                            "  align-self: flex-start;\n",
                            "  width: 50%;\n",
                            "}\n",
                            "\n",
                            "#sk-container-id-2 div.sk-parallel-item:only-child::after {\n",
                            "  width: 0;\n",
                            "}\n",
                            "\n",
                            "/* Serial-specific style estimator block */\n",
                            "\n",
                            "#sk-container-id-2 div.sk-serial {\n",
                            "  display: flex;\n",
                            "  flex-direction: column;\n",
                            "  align-items: center;\n",
                            "  background-color: var(--sklearn-color-background);\n",
                            "  padding-right: 1em;\n",
                            "  padding-left: 1em;\n",
                            "}\n",
                            "\n",
                            "\n",
                            "/* Toggleable style: style used for estimator/Pipeline/ColumnTransformer box that is\n",
                            "clickable and can be expanded/collapsed.\n",
                            "- Pipeline and ColumnTransformer use this feature and define the default style\n",
                            "- Estimators will overwrite some part of the style using the `sk-estimator` class\n",
                            "*/\n",
                            "\n",
                            "/* Pipeline and ColumnTransformer style (default) */\n",
                            "\n",
                            "#sk-container-id-2 div.sk-toggleable {\n",
                            "  /* Default theme specific background. It is overwritten whether we have a\n",
                            "  specific estimator or a Pipeline/ColumnTransformer */\n",
                            "  background-color: var(--sklearn-color-background);\n",
                            "}\n",
                            "\n",
                            "/* Toggleable label */\n",
                            "#sk-container-id-2 label.sk-toggleable__label {\n",
                            "  cursor: pointer;\n",
                            "  display: flex;\n",
                            "  width: 100%;\n",
                            "  margin-bottom: 0;\n",
                            "  padding: 0.5em;\n",
                            "  box-sizing: border-box;\n",
                            "  text-align: center;\n",
                            "  align-items: start;\n",
                            "  justify-content: space-between;\n",
                            "  gap: 0.5em;\n",
                            "}\n",
                            "\n",
                            "#sk-container-id-2 label.sk-toggleable__label .caption {\n",
                            "  font-size: 0.6rem;\n",
                            "  font-weight: lighter;\n",
                            "  color: var(--sklearn-color-text-muted);\n",
                            "}\n",
                            "\n",
                            "#sk-container-id-2 label.sk-toggleable__label-arrow:before {\n",
                            "  /* Arrow on the left of the label */\n",
                            "  content: \"▸\";\n",
                            "  float: left;\n",
                            "  margin-right: 0.25em;\n",
                            "  color: var(--sklearn-color-icon);\n",
                            "}\n",
                            "\n",
                            "#sk-container-id-2 label.sk-toggleable__label-arrow:hover:before {\n",
                            "  color: var(--sklearn-color-text);\n",
                            "}\n",
                            "\n",
                            "/* Toggleable content - dropdown */\n",
                            "\n",
                            "#sk-container-id-2 div.sk-toggleable__content {\n",
                            "  max-height: 0;\n",
                            "  max-width: 0;\n",
                            "  overflow: hidden;\n",
                            "  text-align: left;\n",
                            "  /* unfitted */\n",
                            "  background-color: var(--sklearn-color-unfitted-level-0);\n",
                            "}\n",
                            "\n",
                            "#sk-container-id-2 div.sk-toggleable__content.fitted {\n",
                            "  /* fitted */\n",
                            "  background-color: var(--sklearn-color-fitted-level-0);\n",
                            "}\n",
                            "\n",
                            "#sk-container-id-2 div.sk-toggleable__content pre {\n",
                            "  margin: 0.2em;\n",
                            "  border-radius: 0.25em;\n",
                            "  color: var(--sklearn-color-text);\n",
                            "  /* unfitted */\n",
                            "  background-color: var(--sklearn-color-unfitted-level-0);\n",
                            "}\n",
                            "\n",
                            "#sk-container-id-2 div.sk-toggleable__content.fitted pre {\n",
                            "  /* unfitted */\n",
                            "  background-color: var(--sklearn-color-fitted-level-0);\n",
                            "}\n",
                            "\n",
                            "#sk-container-id-2 input.sk-toggleable__control:checked~div.sk-toggleable__content {\n",
                            "  /* Expand drop-down */\n",
                            "  max-height: 200px;\n",
                            "  max-width: 100%;\n",
                            "  overflow: auto;\n",
                            "}\n",
                            "\n",
                            "#sk-container-id-2 input.sk-toggleable__control:checked~label.sk-toggleable__label-arrow:before {\n",
                            "  content: \"▾\";\n",
                            "}\n",
                            "\n",
                            "/* Pipeline/ColumnTransformer-specific style */\n",
                            "\n",
                            "#sk-container-id-2 div.sk-label input.sk-toggleable__control:checked~label.sk-toggleable__label {\n",
                            "  color: var(--sklearn-color-text);\n",
                            "  background-color: var(--sklearn-color-unfitted-level-2);\n",
                            "}\n",
                            "\n",
                            "#sk-container-id-2 div.sk-label.fitted input.sk-toggleable__control:checked~label.sk-toggleable__label {\n",
                            "  background-color: var(--sklearn-color-fitted-level-2);\n",
                            "}\n",
                            "\n",
                            "/* Estimator-specific style */\n",
                            "\n",
                            "/* Colorize estimator box */\n",
                            "#sk-container-id-2 div.sk-estimator input.sk-toggleable__control:checked~label.sk-toggleable__label {\n",
                            "  /* unfitted */\n",
                            "  background-color: var(--sklearn-color-unfitted-level-2);\n",
                            "}\n",
                            "\n",
                            "#sk-container-id-2 div.sk-estimator.fitted input.sk-toggleable__control:checked~label.sk-toggleable__label {\n",
                            "  /* fitted */\n",
                            "  background-color: var(--sklearn-color-fitted-level-2);\n",
                            "}\n",
                            "\n",
                            "#sk-container-id-2 div.sk-label label.sk-toggleable__label,\n",
                            "#sk-container-id-2 div.sk-label label {\n",
                            "  /* The background is the default theme color */\n",
                            "  color: var(--sklearn-color-text-on-default-background);\n",
                            "}\n",
                            "\n",
                            "/* On hover, darken the color of the background */\n",
                            "#sk-container-id-2 div.sk-label:hover label.sk-toggleable__label {\n",
                            "  color: var(--sklearn-color-text);\n",
                            "  background-color: var(--sklearn-color-unfitted-level-2);\n",
                            "}\n",
                            "\n",
                            "/* Label box, darken color on hover, fitted */\n",
                            "#sk-container-id-2 div.sk-label.fitted:hover label.sk-toggleable__label.fitted {\n",
                            "  color: var(--sklearn-color-text);\n",
                            "  background-color: var(--sklearn-color-fitted-level-2);\n",
                            "}\n",
                            "\n",
                            "/* Estimator label */\n",
                            "\n",
                            "#sk-container-id-2 div.sk-label label {\n",
                            "  font-family: monospace;\n",
                            "  font-weight: bold;\n",
                            "  display: inline-block;\n",
                            "  line-height: 1.2em;\n",
                            "}\n",
                            "\n",
                            "#sk-container-id-2 div.sk-label-container {\n",
                            "  text-align: center;\n",
                            "}\n",
                            "\n",
                            "/* Estimator-specific */\n",
                            "#sk-container-id-2 div.sk-estimator {\n",
                            "  font-family: monospace;\n",
                            "  border: 1px dotted var(--sklearn-color-border-box);\n",
                            "  border-radius: 0.25em;\n",
                            "  box-sizing: border-box;\n",
                            "  margin-bottom: 0.5em;\n",
                            "  /* unfitted */\n",
                            "  background-color: var(--sklearn-color-unfitted-level-0);\n",
                            "}\n",
                            "\n",
                            "#sk-container-id-2 div.sk-estimator.fitted {\n",
                            "  /* fitted */\n",
                            "  background-color: var(--sklearn-color-fitted-level-0);\n",
                            "}\n",
                            "\n",
                            "/* on hover */\n",
                            "#sk-container-id-2 div.sk-estimator:hover {\n",
                            "  /* unfitted */\n",
                            "  background-color: var(--sklearn-color-unfitted-level-2);\n",
                            "}\n",
                            "\n",
                            "#sk-container-id-2 div.sk-estimator.fitted:hover {\n",
                            "  /* fitted */\n",
                            "  background-color: var(--sklearn-color-fitted-level-2);\n",
                            "}\n",
                            "\n",
                            "/* Specification for estimator info (e.g. \"i\" and \"?\") */\n",
                            "\n",
                            "/* Common style for \"i\" and \"?\" */\n",
                            "\n",
                            ".sk-estimator-doc-link,\n",
                            "a:link.sk-estimator-doc-link,\n",
                            "a:visited.sk-estimator-doc-link {\n",
                            "  float: right;\n",
                            "  font-size: smaller;\n",
                            "  line-height: 1em;\n",
                            "  font-family: monospace;\n",
                            "  background-color: var(--sklearn-color-background);\n",
                            "  border-radius: 1em;\n",
                            "  height: 1em;\n",
                            "  width: 1em;\n",
                            "  text-decoration: none !important;\n",
                            "  margin-left: 0.5em;\n",
                            "  text-align: center;\n",
                            "  /* unfitted */\n",
                            "  border: var(--sklearn-color-unfitted-level-1) 1pt solid;\n",
                            "  color: var(--sklearn-color-unfitted-level-1);\n",
                            "}\n",
                            "\n",
                            ".sk-estimator-doc-link.fitted,\n",
                            "a:link.sk-estimator-doc-link.fitted,\n",
                            "a:visited.sk-estimator-doc-link.fitted {\n",
                            "  /* fitted */\n",
                            "  border: var(--sklearn-color-fitted-level-1) 1pt solid;\n",
                            "  color: var(--sklearn-color-fitted-level-1);\n",
                            "}\n",
                            "\n",
                            "/* On hover */\n",
                            "div.sk-estimator:hover .sk-estimator-doc-link:hover,\n",
                            ".sk-estimator-doc-link:hover,\n",
                            "div.sk-label-container:hover .sk-estimator-doc-link:hover,\n",
                            ".sk-estimator-doc-link:hover {\n",
                            "  /* unfitted */\n",
                            "  background-color: var(--sklearn-color-unfitted-level-3);\n",
                            "  color: var(--sklearn-color-background);\n",
                            "  text-decoration: none;\n",
                            "}\n",
                            "\n",
                            "div.sk-estimator.fitted:hover .sk-estimator-doc-link.fitted:hover,\n",
                            ".sk-estimator-doc-link.fitted:hover,\n",
                            "div.sk-label-container:hover .sk-estimator-doc-link.fitted:hover,\n",
                            ".sk-estimator-doc-link.fitted:hover {\n",
                            "  /* fitted */\n",
                            "  background-color: var(--sklearn-color-fitted-level-3);\n",
                            "  color: var(--sklearn-color-background);\n",
                            "  text-decoration: none;\n",
                            "}\n",
                            "\n",
                            "/* Span, style for the box shown on hovering the info icon */\n",
                            ".sk-estimator-doc-link span {\n",
                            "  display: none;\n",
                            "  z-index: 9999;\n",
                            "  position: relative;\n",
                            "  font-weight: normal;\n",
                            "  right: .2ex;\n",
                            "  padding: .5ex;\n",
                            "  margin: .5ex;\n",
                            "  width: min-content;\n",
                            "  min-width: 20ex;\n",
                            "  max-width: 50ex;\n",
                            "  color: var(--sklearn-color-text);\n",
                            "  box-shadow: 2pt 2pt 4pt #999;\n",
                            "  /* unfitted */\n",
                            "  background: var(--sklearn-color-unfitted-level-0);\n",
                            "  border: .5pt solid var(--sklearn-color-unfitted-level-3);\n",
                            "}\n",
                            "\n",
                            ".sk-estimator-doc-link.fitted span {\n",
                            "  /* fitted */\n",
                            "  background: var(--sklearn-color-fitted-level-0);\n",
                            "  border: var(--sklearn-color-fitted-level-3);\n",
                            "}\n",
                            "\n",
                            ".sk-estimator-doc-link:hover span {\n",
                            "  display: block;\n",
                            "}\n",
                            "\n",
                            "/* \"?\"-specific style due to the `<a>` HTML tag */\n",
                            "\n",
                            "#sk-container-id-2 a.estimator_doc_link {\n",
                            "  float: right;\n",
                            "  font-size: 1rem;\n",
                            "  line-height: 1em;\n",
                            "  font-family: monospace;\n",
                            "  background-color: var(--sklearn-color-background);\n",
                            "  border-radius: 1rem;\n",
                            "  height: 1rem;\n",
                            "  width: 1rem;\n",
                            "  text-decoration: none;\n",
                            "  /* unfitted */\n",
                            "  color: var(--sklearn-color-unfitted-level-1);\n",
                            "  border: var(--sklearn-color-unfitted-level-1) 1pt solid;\n",
                            "}\n",
                            "\n",
                            "#sk-container-id-2 a.estimator_doc_link.fitted {\n",
                            "  /* fitted */\n",
                            "  border: var(--sklearn-color-fitted-level-1) 1pt solid;\n",
                            "  color: var(--sklearn-color-fitted-level-1);\n",
                            "}\n",
                            "\n",
                            "/* On hover */\n",
                            "#sk-container-id-2 a.estimator_doc_link:hover {\n",
                            "  /* unfitted */\n",
                            "  background-color: var(--sklearn-color-unfitted-level-3);\n",
                            "  color: var(--sklearn-color-background);\n",
                            "  text-decoration: none;\n",
                            "}\n",
                            "\n",
                            "#sk-container-id-2 a.estimator_doc_link.fitted:hover {\n",
                            "  /* fitted */\n",
                            "  background-color: var(--sklearn-color-fitted-level-3);\n",
                            "}\n",
                            "</style><div id=\"sk-container-id-2\" class=\"sk-top-container\"><div class=\"sk-text-repr-fallback\"><pre>LogisticRegression()</pre><b>In a Jupyter environment, please rerun this cell to show the HTML representation or trust the notebook. <br />On GitHub, the HTML representation is unable to render, please try loading this page with nbviewer.org.</b></div><div class=\"sk-container\" hidden><div class=\"sk-item\"><div class=\"sk-estimator fitted sk-toggleable\"><input class=\"sk-toggleable__control sk-hidden--visually\" id=\"sk-estimator-id-2\" type=\"checkbox\" checked><label for=\"sk-estimator-id-2\" class=\"sk-toggleable__label fitted sk-toggleable__label-arrow\"><div><div>LogisticRegression</div></div><div><a class=\"sk-estimator-doc-link fitted\" rel=\"noreferrer\" target=\"_blank\" href=\"https://scikit-learn.org/1.6/modules/generated/sklearn.linear_model.LogisticRegression.html\">?<span>Documentation for LogisticRegression</span></a><span class=\"sk-estimator-doc-link fitted\">i<span>Fitted</span></span></div></label><div class=\"sk-toggleable__content fitted\"><pre>LogisticRegression()</pre></div> </div></div></div></div>"
                        ],
                        "text/plain": [
                            "LogisticRegression()"
                        ]
                    },
                    "execution_count": 52,
                    "metadata": {},
                    "output_type": "execute_result"
                }
            ],
            "source": [
                "from sklearn.linear_model import LogisticRegression\n",
                "\n",
                "model = LogisticRegression()\n",
                "model.fit(X_train_sel, y_train)"
            ]
        },
        {
            "cell_type": "code",
            "execution_count": null,
            "metadata": {},
            "outputs": [
                {
                    "data": {
                        "text/plain": [
                            "array([0, 0, 0, ..., 0, 1, 0], shape=(8238,))"
                        ]
                    },
                    "execution_count": 53,
                    "metadata": {},
                    "output_type": "execute_result"
                }
            ],
            "source": [
                "y_pred = model.predict(X_test_sel)\n",
                "y_pred"
            ]
        },
        {
            "cell_type": "code",
            "execution_count": null,
            "metadata": {},
            "outputs": [
                {
                    "data": {
                        "text/plain": [
                            "0.9061665452779801"
                        ]
                    },
                    "execution_count": 54,
                    "metadata": {},
                    "output_type": "execute_result"
                }
            ],
            "source": [
                "from sklearn.metrics import accuracy_score\n",
                "\n",
                "accuracy_score(y_test, y_pred)\n",
                "#CUAN EXACTO ES EL MODELO: PRUEBA CON Y REALES Y Y PRED(PREDICORIAS)"
            ]
        },
        {
            "cell_type": "code",
            "execution_count": null,
            "metadata": {},
            "outputs": [
                {
                    "data": {
                        "image/png": "[encoded data removed]",
                        "text/plain": [
                            "<Figure size 300x300 with 1 Axes>"
                        ]
                    },
                    "metadata": {},
                    "output_type": "display_data"
                }
            ],
            "source": [
                "import matplotlib.pyplot as plt\n",
                "import seaborn as sns\n",
                "from sklearn.metrics import confusion_matrix\n",
                "\n",
                "titanic_cm = confusion_matrix(y_test, y_pred)\n",
                "\n",
                "# Dibujaremos esta matriz para hacerla más visual\n",
                "cm_df = pd.DataFrame(titanic_cm)\n",
                "\n",
                "plt.figure(figsize = (3, 3))\n",
                "sns.heatmap(cm_df, annot=True, fmt=\"d\", cbar=False)\n",
                "\n",
                "plt.tight_layout()\n",
                "\n",
                "plt.show()"
            ]
        }
    ],
    "metadata": {
        "kernelspec": {
            "display_name": "Python 3",
            "language": "python",
            "name": "python3"
        },
        "language_info": {
            "codemirror_mode": {
                "name": "ipython",
                "version": 3
            },
            "file_extension": ".py",
            "mimetype": "text/x-python",
            "name": "python",
            "nbconvert_exporter": "python",
            "pygments_lexer": "ipython3",
            "version": "3.10.12"
        },
        "orig_nbformat": 4
    },
    "nbformat": 4,
    "nbformat_minor": 2
}
